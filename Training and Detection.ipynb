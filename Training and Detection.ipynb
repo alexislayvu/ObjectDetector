{
 "cells": [
  {
   "cell_type": "markdown",
   "id": "51ecb65a-69c0-4f67-997b-9bb40c3cb4d2",
   "metadata": {},
   "source": [
    "# 0. Setup Paths"
   ]
  },
  {
   "cell_type": "code",
   "execution_count": 1,
   "id": "f954bff1-74d4-4ff0-a310-150966653793",
   "metadata": {},
   "outputs": [],
   "source": [
    "import os"
   ]
  },
  {
   "cell_type": "code",
   "execution_count": 2,
   "id": "13caaada-bb61-4c0d-8ed5-30a6cec1deab",
   "metadata": {},
   "outputs": [],
   "source": [
    "CUSTOM_MODEL_NAME = 'my_ssd_mobnet' \n",
    "PRETRAINED_MODEL_NAME = 'ssd_mobilenet_v2_fpnlite_320x320_coco17_tpu-8'\n",
    "PRETRAINED_MODEL_URL = 'http://download.tensorflow.org/models/object_detection/tf2/20200711/ssd_mobilenet_v2_fpnlite_320x320_coco17_tpu-8.tar.gz'\n",
    "TF_RECORD_SCRIPT_NAME = 'generate_tfrecord.py'\n",
    "LABEL_MAP_NAME = 'label_map.pbtxt'"
   ]
  },
  {
   "cell_type": "code",
   "execution_count": 3,
   "id": "3d426899-7477-4cbc-80e5-296865cf057b",
   "metadata": {},
   "outputs": [],
   "source": [
    "paths = {\n",
    "    'WORKSPACE_PATH': os.path.join('Tensorflow', 'workspace'),\n",
    "    'SCRIPTS_PATH': os.path.join('Tensorflow','scripts'),\n",
    "    'APIMODEL_PATH': os.path.join('Tensorflow','models'),\n",
    "    'ANNOTATION_PATH': os.path.join('Tensorflow', 'workspace','annotations'),\n",
    "    'IMAGE_PATH': os.path.join('Tensorflow', 'workspace','images'),\n",
    "    'MODEL_PATH': os.path.join('Tensorflow', 'workspace','models'),\n",
    "    'PRETRAINED_MODEL_PATH': os.path.join('Tensorflow', 'workspace','pre-trained-models'),\n",
    "    'CHECKPOINT_PATH': os.path.join('Tensorflow', 'workspace','models',CUSTOM_MODEL_NAME), \n",
    "    'OUTPUT_PATH': os.path.join('Tensorflow', 'workspace','models',CUSTOM_MODEL_NAME, 'export'), \n",
    "    'TFJS_PATH':os.path.join('Tensorflow', 'workspace','models',CUSTOM_MODEL_NAME, 'tfjsexport'), \n",
    "    'TFLITE_PATH':os.path.join('Tensorflow', 'workspace','models',CUSTOM_MODEL_NAME, 'tfliteexport'), \n",
    "    'PROTOC_PATH':os.path.join('Tensorflow','protoc')\n",
    " }"
   ]
  },
  {
   "cell_type": "code",
   "execution_count": 4,
   "id": "b5f747b0-e7ed-4e24-ba17-a9914006b58e",
   "metadata": {},
   "outputs": [],
   "source": [
    "files = {\n",
    "    'PIPELINE_CONFIG':os.path.join('Tensorflow', 'workspace','models', CUSTOM_MODEL_NAME, 'pipeline.config'),\n",
    "    'TF_RECORD_SCRIPT': os.path.join(paths['SCRIPTS_PATH'], TF_RECORD_SCRIPT_NAME), \n",
    "    'LABELMAP': os.path.join(paths['ANNOTATION_PATH'], LABEL_MAP_NAME)\n",
    "}"
   ]
  },
  {
   "cell_type": "code",
   "execution_count": 5,
   "id": "f9b99500-0c25-481d-a444-ea89a54ac744",
   "metadata": {},
   "outputs": [],
   "source": [
    "for path in paths.values():\n",
    "    if not os.path.exists(path):\n",
    "        if os.name == 'posix':\n",
    "            !mkdir -p {path}\n",
    "        if os.name == 'nt':\n",
    "            !mkdir {path}"
   ]
  },
  {
   "cell_type": "markdown",
   "id": "c99bf3ee-8150-43e0-978c-6186ac17a74d",
   "metadata": {},
   "source": [
    "# 1. Download TF Models Pretrained Models from Tensorflow Model Zoo and Install TFOD"
   ]
  },
  {
   "cell_type": "code",
   "execution_count": null,
   "id": "cd1f9868-46ee-4cb8-969c-cb2cc0f0c1e4",
   "metadata": {},
   "outputs": [],
   "source": [
    "if os.name=='nt':\n",
    "    !pip install wget\n",
    "    import wget"
   ]
  },
  {
   "cell_type": "code",
   "execution_count": null,
   "id": "9cff5006-00bd-4556-8a1a-1e22a7a71fa7",
   "metadata": {},
   "outputs": [],
   "source": [
    "if not os.path.exists(os.path.join(paths['APIMODEL_PATH'], 'research', 'object_detection')):\n",
    "    !git clone https://github.com/tensorflow/models {paths['APIMODEL_PATH']}"
   ]
  },
  {
   "cell_type": "code",
   "execution_count": 6,
   "id": "6f0342bd-cff0-4065-abb9-3a214130afbc",
   "metadata": {},
   "outputs": [
    {
     "name": "stdout",
     "output_type": "stream",
     "text": [
      "Requirement already satisfied: tensorflow==2.13.0 in ./tfod/lib/python3.9/site-packages (2.13.0)\n",
      "Requirement already satisfied: tensorflow-macos==2.13.0 in ./tfod/lib/python3.9/site-packages (from tensorflow==2.13.0) (2.13.0)\n",
      "Requirement already satisfied: absl-py>=1.0.0 in ./tfod/lib/python3.9/site-packages (from tensorflow-macos==2.13.0->tensorflow==2.13.0) (1.4.0)\n",
      "Requirement already satisfied: astunparse>=1.6.0 in ./tfod/lib/python3.9/site-packages (from tensorflow-macos==2.13.0->tensorflow==2.13.0) (1.6.3)\n",
      "Requirement already satisfied: flatbuffers>=23.1.21 in ./tfod/lib/python3.9/site-packages (from tensorflow-macos==2.13.0->tensorflow==2.13.0) (23.5.26)\n",
      "Requirement already satisfied: gast<=0.4.0,>=0.2.1 in ./tfod/lib/python3.9/site-packages (from tensorflow-macos==2.13.0->tensorflow==2.13.0) (0.4.0)\n",
      "Requirement already satisfied: google-pasta>=0.1.1 in ./tfod/lib/python3.9/site-packages (from tensorflow-macos==2.13.0->tensorflow==2.13.0) (0.2.0)\n",
      "Requirement already satisfied: h5py>=2.9.0 in ./tfod/lib/python3.9/site-packages (from tensorflow-macos==2.13.0->tensorflow==2.13.0) (3.10.0)\n",
      "Requirement already satisfied: libclang>=13.0.0 in ./tfod/lib/python3.9/site-packages (from tensorflow-macos==2.13.0->tensorflow==2.13.0) (16.0.6)\n",
      "Requirement already satisfied: numpy<=1.24.3,>=1.22 in ./tfod/lib/python3.9/site-packages (from tensorflow-macos==2.13.0->tensorflow==2.13.0) (1.24.3)\n",
      "Requirement already satisfied: opt-einsum>=2.3.2 in ./tfod/lib/python3.9/site-packages (from tensorflow-macos==2.13.0->tensorflow==2.13.0) (3.3.0)\n",
      "Requirement already satisfied: packaging in ./tfod/lib/python3.9/site-packages (from tensorflow-macos==2.13.0->tensorflow==2.13.0) (23.2)\n",
      "Requirement already satisfied: protobuf!=4.21.0,!=4.21.1,!=4.21.2,!=4.21.3,!=4.21.4,!=4.21.5,<5.0.0dev,>=3.20.3 in ./tfod/lib/python3.9/site-packages (from tensorflow-macos==2.13.0->tensorflow==2.13.0) (3.20.3)\n",
      "Requirement already satisfied: setuptools in ./tfod/lib/python3.9/site-packages (from tensorflow-macos==2.13.0->tensorflow==2.13.0) (49.2.1)\n",
      "Requirement already satisfied: six>=1.12.0 in ./tfod/lib/python3.9/site-packages (from tensorflow-macos==2.13.0->tensorflow==2.13.0) (1.16.0)\n",
      "Requirement already satisfied: termcolor>=1.1.0 in ./tfod/lib/python3.9/site-packages (from tensorflow-macos==2.13.0->tensorflow==2.13.0) (2.4.0)\n",
      "Requirement already satisfied: typing-extensions<4.6.0,>=3.6.6 in ./tfod/lib/python3.9/site-packages (from tensorflow-macos==2.13.0->tensorflow==2.13.0) (4.5.0)\n",
      "Requirement already satisfied: wrapt>=1.11.0 in ./tfod/lib/python3.9/site-packages (from tensorflow-macos==2.13.0->tensorflow==2.13.0) (1.16.0)\n",
      "Requirement already satisfied: grpcio<2.0,>=1.24.3 in ./tfod/lib/python3.9/site-packages (from tensorflow-macos==2.13.0->tensorflow==2.13.0) (1.60.1)\n",
      "Requirement already satisfied: tensorboard<2.14,>=2.13 in ./tfod/lib/python3.9/site-packages (from tensorflow-macos==2.13.0->tensorflow==2.13.0) (2.13.0)\n",
      "Requirement already satisfied: tensorflow-estimator<2.14,>=2.13.0 in ./tfod/lib/python3.9/site-packages (from tensorflow-macos==2.13.0->tensorflow==2.13.0) (2.13.0)\n",
      "Requirement already satisfied: keras<2.14,>=2.13.1 in ./tfod/lib/python3.9/site-packages (from tensorflow-macos==2.13.0->tensorflow==2.13.0) (2.13.1)\n",
      "Requirement already satisfied: wheel<1.0,>=0.23.0 in ./tfod/lib/python3.9/site-packages (from astunparse>=1.6.0->tensorflow-macos==2.13.0->tensorflow==2.13.0) (0.42.0)\n",
      "Requirement already satisfied: google-auth<3,>=1.6.3 in ./tfod/lib/python3.9/site-packages (from tensorboard<2.14,>=2.13->tensorflow-macos==2.13.0->tensorflow==2.13.0) (2.27.0)\n",
      "Requirement already satisfied: google-auth-oauthlib<1.1,>=0.5 in ./tfod/lib/python3.9/site-packages (from tensorboard<2.14,>=2.13->tensorflow-macos==2.13.0->tensorflow==2.13.0) (1.0.0)\n",
      "Requirement already satisfied: markdown>=2.6.8 in ./tfod/lib/python3.9/site-packages (from tensorboard<2.14,>=2.13->tensorflow-macos==2.13.0->tensorflow==2.13.0) (3.5.2)\n",
      "Requirement already satisfied: requests<3,>=2.21.0 in ./tfod/lib/python3.9/site-packages (from tensorboard<2.14,>=2.13->tensorflow-macos==2.13.0->tensorflow==2.13.0) (2.31.0)\n",
      "Requirement already satisfied: tensorboard-data-server<0.8.0,>=0.7.0 in ./tfod/lib/python3.9/site-packages (from tensorboard<2.14,>=2.13->tensorflow-macos==2.13.0->tensorflow==2.13.0) (0.7.2)\n",
      "Requirement already satisfied: werkzeug>=1.0.1 in ./tfod/lib/python3.9/site-packages (from tensorboard<2.14,>=2.13->tensorflow-macos==2.13.0->tensorflow==2.13.0) (3.0.1)\n",
      "Requirement already satisfied: cachetools<6.0,>=2.0.0 in ./tfod/lib/python3.9/site-packages (from google-auth<3,>=1.6.3->tensorboard<2.14,>=2.13->tensorflow-macos==2.13.0->tensorflow==2.13.0) (5.3.2)\n",
      "Requirement already satisfied: pyasn1-modules>=0.2.1 in ./tfod/lib/python3.9/site-packages (from google-auth<3,>=1.6.3->tensorboard<2.14,>=2.13->tensorflow-macos==2.13.0->tensorflow==2.13.0) (0.3.0)\n",
      "Requirement already satisfied: rsa<5,>=3.1.4 in ./tfod/lib/python3.9/site-packages (from google-auth<3,>=1.6.3->tensorboard<2.14,>=2.13->tensorflow-macos==2.13.0->tensorflow==2.13.0) (4.9)\n",
      "Requirement already satisfied: requests-oauthlib>=0.7.0 in ./tfod/lib/python3.9/site-packages (from google-auth-oauthlib<1.1,>=0.5->tensorboard<2.14,>=2.13->tensorflow-macos==2.13.0->tensorflow==2.13.0) (1.3.1)\n",
      "Requirement already satisfied: importlib-metadata>=4.4 in ./tfod/lib/python3.9/site-packages (from markdown>=2.6.8->tensorboard<2.14,>=2.13->tensorflow-macos==2.13.0->tensorflow==2.13.0) (7.0.1)\n",
      "Requirement already satisfied: charset-normalizer<4,>=2 in ./tfod/lib/python3.9/site-packages (from requests<3,>=2.21.0->tensorboard<2.14,>=2.13->tensorflow-macos==2.13.0->tensorflow==2.13.0) (3.3.2)\n",
      "Requirement already satisfied: idna<4,>=2.5 in ./tfod/lib/python3.9/site-packages (from requests<3,>=2.21.0->tensorboard<2.14,>=2.13->tensorflow-macos==2.13.0->tensorflow==2.13.0) (3.6)\n",
      "Requirement already satisfied: urllib3<3,>=1.21.1 in ./tfod/lib/python3.9/site-packages (from requests<3,>=2.21.0->tensorboard<2.14,>=2.13->tensorflow-macos==2.13.0->tensorflow==2.13.0) (2.2.0)\n",
      "Requirement already satisfied: certifi>=2017.4.17 in ./tfod/lib/python3.9/site-packages (from requests<3,>=2.21.0->tensorboard<2.14,>=2.13->tensorflow-macos==2.13.0->tensorflow==2.13.0) (2024.2.2)\n",
      "Requirement already satisfied: MarkupSafe>=2.1.1 in ./tfod/lib/python3.9/site-packages (from werkzeug>=1.0.1->tensorboard<2.14,>=2.13->tensorflow-macos==2.13.0->tensorflow==2.13.0) (2.1.5)\n",
      "Requirement already satisfied: zipp>=0.5 in ./tfod/lib/python3.9/site-packages (from importlib-metadata>=4.4->markdown>=2.6.8->tensorboard<2.14,>=2.13->tensorflow-macos==2.13.0->tensorflow==2.13.0) (3.17.0)\n",
      "Requirement already satisfied: pyasn1<0.6.0,>=0.4.6 in ./tfod/lib/python3.9/site-packages (from pyasn1-modules>=0.2.1->google-auth<3,>=1.6.3->tensorboard<2.14,>=2.13->tensorflow-macos==2.13.0->tensorflow==2.13.0) (0.5.1)\n",
      "Requirement already satisfied: oauthlib>=3.0.0 in ./tfod/lib/python3.9/site-packages (from requests-oauthlib>=0.7.0->google-auth-oauthlib<1.1,>=0.5->tensorboard<2.14,>=2.13->tensorflow-macos==2.13.0->tensorflow==2.13.0) (3.2.2)\n"
     ]
    }
   ],
   "source": [
    "!pip install tensorflow==2.13.0"
   ]
  },
  {
   "cell_type": "code",
   "execution_count": 7,
   "id": "754fec2f-4bfc-41ac-88d5-6a66a3107504",
   "metadata": {},
   "outputs": [
    {
     "name": "stdout",
     "output_type": "stream",
     "text": [
      "Requirement already satisfied: tf-models-official in ./tfod/lib/python3.9/site-packages (2.5.1)\n",
      "Requirement already satisfied: Cython in ./tfod/lib/python3.9/site-packages (from tf-models-official) (3.0.8)\n",
      "Requirement already satisfied: Pillow in ./tfod/lib/python3.9/site-packages (from tf-models-official) (10.2.0)\n",
      "Requirement already satisfied: gin-config in ./tfod/lib/python3.9/site-packages (from tf-models-official) (0.5.0)\n",
      "Requirement already satisfied: google-api-python-client>=1.6.7 in ./tfod/lib/python3.9/site-packages (from tf-models-official) (2.116.0)\n",
      "Requirement already satisfied: kaggle>=1.3.9 in ./tfod/lib/python3.9/site-packages (from tf-models-official) (1.6.5)\n",
      "Requirement already satisfied: matplotlib in ./tfod/lib/python3.9/site-packages (from tf-models-official) (3.8.2)\n",
      "Requirement already satisfied: numpy>=1.15.4 in ./tfod/lib/python3.9/site-packages (from tf-models-official) (1.24.3)\n",
      "Requirement already satisfied: oauth2client in ./tfod/lib/python3.9/site-packages (from tf-models-official) (4.1.3)\n",
      "Requirement already satisfied: opencv-python-headless in ./tfod/lib/python3.9/site-packages (from tf-models-official) (4.9.0.80)\n",
      "Requirement already satisfied: pandas>=0.22.0 in ./tfod/lib/python3.9/site-packages (from tf-models-official) (2.2.0)\n",
      "Requirement already satisfied: psutil>=5.4.3 in ./tfod/lib/python3.9/site-packages (from tf-models-official) (5.9.8)\n",
      "Requirement already satisfied: py-cpuinfo>=3.3.0 in ./tfod/lib/python3.9/site-packages (from tf-models-official) (9.0.0)\n",
      "Requirement already satisfied: pycocotools in ./tfod/lib/python3.9/site-packages (from tf-models-official) (2.0.7)\n",
      "Requirement already satisfied: pyyaml>=5.1 in ./tfod/lib/python3.9/site-packages (from tf-models-official) (5.3.1)\n",
      "Requirement already satisfied: sacrebleu in ./tfod/lib/python3.9/site-packages (from tf-models-official) (2.2.0)\n",
      "Requirement already satisfied: scipy>=0.19.1 in ./tfod/lib/python3.9/site-packages (from tf-models-official) (1.12.0)\n",
      "Requirement already satisfied: sentencepiece in ./tfod/lib/python3.9/site-packages (from tf-models-official) (0.1.99)\n",
      "Requirement already satisfied: seqeval in ./tfod/lib/python3.9/site-packages (from tf-models-official) (1.2.2)\n",
      "Requirement already satisfied: six in ./tfod/lib/python3.9/site-packages (from tf-models-official) (1.16.0)\n",
      "Requirement already satisfied: tensorflow-addons in ./tfod/lib/python3.9/site-packages (from tf-models-official) (0.23.0)\n",
      "Requirement already satisfied: tensorflow-datasets in ./tfod/lib/python3.9/site-packages (from tf-models-official) (4.9.3)\n",
      "Requirement already satisfied: tensorflow-hub>=0.6.0 in ./tfod/lib/python3.9/site-packages (from tf-models-official) (0.16.1)\n",
      "Requirement already satisfied: tensorflow-model-optimization>=0.4.1 in ./tfod/lib/python3.9/site-packages (from tf-models-official) (0.8.0)\n",
      "Requirement already satisfied: tensorflow>=2.5.0 in ./tfod/lib/python3.9/site-packages (from tf-models-official) (2.13.0)\n",
      "Requirement already satisfied: tf-slim>=1.1.0 in ./tfod/lib/python3.9/site-packages (from tf-models-official) (1.1.0)\n",
      "Requirement already satisfied: httplib2<1.dev0,>=0.15.0 in ./tfod/lib/python3.9/site-packages (from google-api-python-client>=1.6.7->tf-models-official) (0.22.0)\n",
      "Requirement already satisfied: google-auth<3.0.0.dev0,>=1.19.0 in ./tfod/lib/python3.9/site-packages (from google-api-python-client>=1.6.7->tf-models-official) (2.27.0)\n",
      "Requirement already satisfied: google-auth-httplib2>=0.1.0 in ./tfod/lib/python3.9/site-packages (from google-api-python-client>=1.6.7->tf-models-official) (0.2.0)\n",
      "Requirement already satisfied: google-api-core!=2.0.*,!=2.1.*,!=2.2.*,!=2.3.0,<3.0.0.dev0,>=1.31.5 in ./tfod/lib/python3.9/site-packages (from google-api-python-client>=1.6.7->tf-models-official) (2.16.2)\n",
      "Requirement already satisfied: uritemplate<5,>=3.0.1 in ./tfod/lib/python3.9/site-packages (from google-api-python-client>=1.6.7->tf-models-official) (4.1.1)\n",
      "Requirement already satisfied: certifi in ./tfod/lib/python3.9/site-packages (from kaggle>=1.3.9->tf-models-official) (2024.2.2)\n",
      "Requirement already satisfied: python-dateutil in ./tfod/lib/python3.9/site-packages (from kaggle>=1.3.9->tf-models-official) (2.8.2)\n",
      "Requirement already satisfied: requests in ./tfod/lib/python3.9/site-packages (from kaggle>=1.3.9->tf-models-official) (2.31.0)\n",
      "Requirement already satisfied: tqdm in ./tfod/lib/python3.9/site-packages (from kaggle>=1.3.9->tf-models-official) (4.66.1)\n",
      "Requirement already satisfied: python-slugify in ./tfod/lib/python3.9/site-packages (from kaggle>=1.3.9->tf-models-official) (8.0.3)\n",
      "Requirement already satisfied: urllib3 in ./tfod/lib/python3.9/site-packages (from kaggle>=1.3.9->tf-models-official) (2.2.0)\n",
      "Requirement already satisfied: bleach in ./tfod/lib/python3.9/site-packages (from kaggle>=1.3.9->tf-models-official) (6.1.0)\n",
      "Requirement already satisfied: pytz>=2020.1 in ./tfod/lib/python3.9/site-packages (from pandas>=0.22.0->tf-models-official) (2024.1)\n",
      "Requirement already satisfied: tzdata>=2022.7 in ./tfod/lib/python3.9/site-packages (from pandas>=0.22.0->tf-models-official) (2023.4)\n",
      "Requirement already satisfied: tensorflow-macos==2.13.0 in ./tfod/lib/python3.9/site-packages (from tensorflow>=2.5.0->tf-models-official) (2.13.0)\n",
      "Requirement already satisfied: absl-py>=1.0.0 in ./tfod/lib/python3.9/site-packages (from tensorflow-macos==2.13.0->tensorflow>=2.5.0->tf-models-official) (1.4.0)\n",
      "Requirement already satisfied: astunparse>=1.6.0 in ./tfod/lib/python3.9/site-packages (from tensorflow-macos==2.13.0->tensorflow>=2.5.0->tf-models-official) (1.6.3)\n",
      "Requirement already satisfied: flatbuffers>=23.1.21 in ./tfod/lib/python3.9/site-packages (from tensorflow-macos==2.13.0->tensorflow>=2.5.0->tf-models-official) (23.5.26)\n",
      "Requirement already satisfied: gast<=0.4.0,>=0.2.1 in ./tfod/lib/python3.9/site-packages (from tensorflow-macos==2.13.0->tensorflow>=2.5.0->tf-models-official) (0.4.0)\n",
      "Requirement already satisfied: google-pasta>=0.1.1 in ./tfod/lib/python3.9/site-packages (from tensorflow-macos==2.13.0->tensorflow>=2.5.0->tf-models-official) (0.2.0)\n",
      "Requirement already satisfied: h5py>=2.9.0 in ./tfod/lib/python3.9/site-packages (from tensorflow-macos==2.13.0->tensorflow>=2.5.0->tf-models-official) (3.10.0)\n",
      "Requirement already satisfied: libclang>=13.0.0 in ./tfod/lib/python3.9/site-packages (from tensorflow-macos==2.13.0->tensorflow>=2.5.0->tf-models-official) (16.0.6)\n",
      "Requirement already satisfied: opt-einsum>=2.3.2 in ./tfod/lib/python3.9/site-packages (from tensorflow-macos==2.13.0->tensorflow>=2.5.0->tf-models-official) (3.3.0)\n",
      "Requirement already satisfied: packaging in ./tfod/lib/python3.9/site-packages (from tensorflow-macos==2.13.0->tensorflow>=2.5.0->tf-models-official) (23.2)\n",
      "Requirement already satisfied: protobuf!=4.21.0,!=4.21.1,!=4.21.2,!=4.21.3,!=4.21.4,!=4.21.5,<5.0.0dev,>=3.20.3 in ./tfod/lib/python3.9/site-packages (from tensorflow-macos==2.13.0->tensorflow>=2.5.0->tf-models-official) (3.20.3)\n",
      "Requirement already satisfied: setuptools in ./tfod/lib/python3.9/site-packages (from tensorflow-macos==2.13.0->tensorflow>=2.5.0->tf-models-official) (49.2.1)\n",
      "Requirement already satisfied: termcolor>=1.1.0 in ./tfod/lib/python3.9/site-packages (from tensorflow-macos==2.13.0->tensorflow>=2.5.0->tf-models-official) (2.4.0)\n",
      "Requirement already satisfied: typing-extensions<4.6.0,>=3.6.6 in ./tfod/lib/python3.9/site-packages (from tensorflow-macos==2.13.0->tensorflow>=2.5.0->tf-models-official) (4.5.0)\n",
      "Requirement already satisfied: wrapt>=1.11.0 in ./tfod/lib/python3.9/site-packages (from tensorflow-macos==2.13.0->tensorflow>=2.5.0->tf-models-official) (1.16.0)\n",
      "Requirement already satisfied: grpcio<2.0,>=1.24.3 in ./tfod/lib/python3.9/site-packages (from tensorflow-macos==2.13.0->tensorflow>=2.5.0->tf-models-official) (1.60.1)\n",
      "Requirement already satisfied: tensorboard<2.14,>=2.13 in ./tfod/lib/python3.9/site-packages (from tensorflow-macos==2.13.0->tensorflow>=2.5.0->tf-models-official) (2.13.0)\n",
      "Requirement already satisfied: tensorflow-estimator<2.14,>=2.13.0 in ./tfod/lib/python3.9/site-packages (from tensorflow-macos==2.13.0->tensorflow>=2.5.0->tf-models-official) (2.13.0)\n",
      "Requirement already satisfied: keras<2.14,>=2.13.1 in ./tfod/lib/python3.9/site-packages (from tensorflow-macos==2.13.0->tensorflow>=2.5.0->tf-models-official) (2.13.1)\n",
      "Requirement already satisfied: tf-keras>=2.14.1 in ./tfod/lib/python3.9/site-packages (from tensorflow-hub>=0.6.0->tf-models-official) (2.15.0)\n",
      "Requirement already satisfied: dm-tree~=0.1.1 in ./tfod/lib/python3.9/site-packages (from tensorflow-model-optimization>=0.4.1->tf-models-official) (0.1.8)\n",
      "Requirement already satisfied: contourpy>=1.0.1 in ./tfod/lib/python3.9/site-packages (from matplotlib->tf-models-official) (1.2.0)\n",
      "Requirement already satisfied: cycler>=0.10 in ./tfod/lib/python3.9/site-packages (from matplotlib->tf-models-official) (0.12.1)\n",
      "Requirement already satisfied: fonttools>=4.22.0 in ./tfod/lib/python3.9/site-packages (from matplotlib->tf-models-official) (4.48.1)\n",
      "Requirement already satisfied: kiwisolver>=1.3.1 in ./tfod/lib/python3.9/site-packages (from matplotlib->tf-models-official) (1.4.5)\n",
      "Requirement already satisfied: pyparsing>=2.3.1 in ./tfod/lib/python3.9/site-packages (from matplotlib->tf-models-official) (2.4.7)\n",
      "Requirement already satisfied: importlib-resources>=3.2.0 in ./tfod/lib/python3.9/site-packages (from matplotlib->tf-models-official) (6.1.1)\n",
      "Requirement already satisfied: pyasn1>=0.1.7 in ./tfod/lib/python3.9/site-packages (from oauth2client->tf-models-official) (0.5.1)\n",
      "Requirement already satisfied: pyasn1-modules>=0.0.5 in ./tfod/lib/python3.9/site-packages (from oauth2client->tf-models-official) (0.3.0)\n",
      "Requirement already satisfied: rsa>=3.1.4 in ./tfod/lib/python3.9/site-packages (from oauth2client->tf-models-official) (4.9)\n",
      "Requirement already satisfied: portalocker in ./tfod/lib/python3.9/site-packages (from sacrebleu->tf-models-official) (2.8.2)\n",
      "Requirement already satisfied: regex in ./tfod/lib/python3.9/site-packages (from sacrebleu->tf-models-official) (2023.12.25)\n",
      "Requirement already satisfied: tabulate>=0.8.9 in ./tfod/lib/python3.9/site-packages (from sacrebleu->tf-models-official) (0.9.0)\n",
      "Requirement already satisfied: colorama in ./tfod/lib/python3.9/site-packages (from sacrebleu->tf-models-official) (0.4.6)\n",
      "Requirement already satisfied: lxml in ./tfod/lib/python3.9/site-packages (from sacrebleu->tf-models-official) (5.1.0)\n",
      "Requirement already satisfied: scikit-learn>=0.21.3 in ./tfod/lib/python3.9/site-packages (from seqeval->tf-models-official) (1.4.0)\n",
      "Requirement already satisfied: typeguard<3.0.0,>=2.7 in ./tfod/lib/python3.9/site-packages (from tensorflow-addons->tf-models-official) (2.13.3)\n",
      "Requirement already satisfied: array-record in ./tfod/lib/python3.9/site-packages (from tensorflow-datasets->tf-models-official) (0.4.1)\n",
      "Requirement already satisfied: click in ./tfod/lib/python3.9/site-packages (from tensorflow-datasets->tf-models-official) (8.1.7)\n",
      "Requirement already satisfied: etils>=0.9.0 in ./tfod/lib/python3.9/site-packages (from etils[enp,epath,etree]>=0.9.0->tensorflow-datasets->tf-models-official) (1.5.2)\n",
      "Requirement already satisfied: promise in ./tfod/lib/python3.9/site-packages (from tensorflow-datasets->tf-models-official) (2.3)\n",
      "Requirement already satisfied: tensorflow-metadata in ./tfod/lib/python3.9/site-packages (from tensorflow-datasets->tf-models-official) (1.14.0)\n",
      "Requirement already satisfied: toml in ./tfod/lib/python3.9/site-packages (from tensorflow-datasets->tf-models-official) (0.10.2)\n",
      "Requirement already satisfied: fsspec in ./tfod/lib/python3.9/site-packages (from etils[enp,epath,etree]>=0.9.0->tensorflow-datasets->tf-models-official) (2024.2.0)\n",
      "Requirement already satisfied: zipp in ./tfod/lib/python3.9/site-packages (from etils[enp,epath,etree]>=0.9.0->tensorflow-datasets->tf-models-official) (3.17.0)\n",
      "Requirement already satisfied: googleapis-common-protos<2.0.dev0,>=1.56.2 in ./tfod/lib/python3.9/site-packages (from google-api-core!=2.0.*,!=2.1.*,!=2.2.*,!=2.3.0,<3.0.0.dev0,>=1.31.5->google-api-python-client>=1.6.7->tf-models-official) (1.62.0)\n",
      "Requirement already satisfied: cachetools<6.0,>=2.0.0 in ./tfod/lib/python3.9/site-packages (from google-auth<3.0.0.dev0,>=1.19.0->google-api-python-client>=1.6.7->tf-models-official) (5.3.2)\n",
      "Requirement already satisfied: charset-normalizer<4,>=2 in ./tfod/lib/python3.9/site-packages (from requests->kaggle>=1.3.9->tf-models-official) (3.3.2)\n",
      "Requirement already satisfied: idna<4,>=2.5 in ./tfod/lib/python3.9/site-packages (from requests->kaggle>=1.3.9->tf-models-official) (3.6)\n",
      "Requirement already satisfied: joblib>=1.2.0 in ./tfod/lib/python3.9/site-packages (from scikit-learn>=0.21.3->seqeval->tf-models-official) (1.3.2)\n",
      "Requirement already satisfied: threadpoolctl>=2.0.0 in ./tfod/lib/python3.9/site-packages (from scikit-learn>=0.21.3->seqeval->tf-models-official) (3.2.0)\n",
      "Requirement already satisfied: webencodings in ./tfod/lib/python3.9/site-packages (from bleach->kaggle>=1.3.9->tf-models-official) (0.5.1)\n",
      "Requirement already satisfied: text-unidecode>=1.3 in ./tfod/lib/python3.9/site-packages (from python-slugify->kaggle>=1.3.9->tf-models-official) (1.3)\n",
      "Requirement already satisfied: wheel<1.0,>=0.23.0 in ./tfod/lib/python3.9/site-packages (from astunparse>=1.6.0->tensorflow-macos==2.13.0->tensorflow>=2.5.0->tf-models-official) (0.42.0)\n",
      "Requirement already satisfied: google-auth-oauthlib<1.1,>=0.5 in ./tfod/lib/python3.9/site-packages (from tensorboard<2.14,>=2.13->tensorflow-macos==2.13.0->tensorflow>=2.5.0->tf-models-official) (1.0.0)\n",
      "Requirement already satisfied: markdown>=2.6.8 in ./tfod/lib/python3.9/site-packages (from tensorboard<2.14,>=2.13->tensorflow-macos==2.13.0->tensorflow>=2.5.0->tf-models-official) (3.5.2)\n",
      "Requirement already satisfied: tensorboard-data-server<0.8.0,>=0.7.0 in ./tfod/lib/python3.9/site-packages (from tensorboard<2.14,>=2.13->tensorflow-macos==2.13.0->tensorflow>=2.5.0->tf-models-official) (0.7.2)\n",
      "Requirement already satisfied: werkzeug>=1.0.1 in ./tfod/lib/python3.9/site-packages (from tensorboard<2.14,>=2.13->tensorflow-macos==2.13.0->tensorflow>=2.5.0->tf-models-official) (3.0.1)\n",
      "Requirement already satisfied: requests-oauthlib>=0.7.0 in ./tfod/lib/python3.9/site-packages (from google-auth-oauthlib<1.1,>=0.5->tensorboard<2.14,>=2.13->tensorflow-macos==2.13.0->tensorflow>=2.5.0->tf-models-official) (1.3.1)\n",
      "Requirement already satisfied: importlib-metadata>=4.4 in ./tfod/lib/python3.9/site-packages (from markdown>=2.6.8->tensorboard<2.14,>=2.13->tensorflow-macos==2.13.0->tensorflow>=2.5.0->tf-models-official) (7.0.1)\n",
      "Requirement already satisfied: MarkupSafe>=2.1.1 in ./tfod/lib/python3.9/site-packages (from werkzeug>=1.0.1->tensorboard<2.14,>=2.13->tensorflow-macos==2.13.0->tensorflow>=2.5.0->tf-models-official) (2.1.5)\n",
      "Requirement already satisfied: oauthlib>=3.0.0 in ./tfod/lib/python3.9/site-packages (from requests-oauthlib>=0.7.0->google-auth-oauthlib<1.1,>=0.5->tensorboard<2.14,>=2.13->tensorflow-macos==2.13.0->tensorflow>=2.5.0->tf-models-official) (3.2.2)\n"
     ]
    }
   ],
   "source": [
    "!pip install tf-models-official"
   ]
  },
  {
   "cell_type": "code",
   "execution_count": 8,
   "id": "83efd9ed-3d66-43e0-956c-e53edfc55622",
   "metadata": {},
   "outputs": [
    {
     "name": "stdout",
     "output_type": "stream",
     "text": [
      "Requirement already satisfied: pyyaml==5.3.1 in ./tfod/lib/python3.9/site-packages (5.3.1)\n"
     ]
    }
   ],
   "source": [
    "!pip install pyyaml==5.3.1"
   ]
  },
  {
   "cell_type": "code",
   "execution_count": 9,
   "id": "2a3b78e7-a6d9-475b-aeb8-d0425b1d93ad",
   "metadata": {},
   "outputs": [
    {
     "name": "stdout",
     "output_type": "stream",
     "text": [
      "Requirement already satisfied: protobuf==3.20.3 in ./tfod/lib/python3.9/site-packages (3.20.3)\n",
      "Processing /Users/alexis/Desktop/TF-Object-Detection/Tensorflow/models/research\n",
      "  Preparing metadata (setup.py) ... \u001b[?25ldone\n",
      "\u001b[?25hRequirement already satisfied: avro-python3 in /Users/alexis/Desktop/TF-Object-Detection/tfod/lib/python3.9/site-packages (from object-detection==0.1) (1.10.2)\n",
      "Requirement already satisfied: apache-beam in /Users/alexis/Desktop/TF-Object-Detection/tfod/lib/python3.9/site-packages (from object-detection==0.1) (2.53.0)\n",
      "Requirement already satisfied: pillow in /Users/alexis/Desktop/TF-Object-Detection/tfod/lib/python3.9/site-packages (from object-detection==0.1) (10.2.0)\n",
      "Requirement already satisfied: lxml in /Users/alexis/Desktop/TF-Object-Detection/tfod/lib/python3.9/site-packages (from object-detection==0.1) (5.1.0)\n",
      "Requirement already satisfied: matplotlib in /Users/alexis/Desktop/TF-Object-Detection/tfod/lib/python3.9/site-packages (from object-detection==0.1) (3.8.2)\n",
      "Requirement already satisfied: Cython in /Users/alexis/Desktop/TF-Object-Detection/tfod/lib/python3.9/site-packages (from object-detection==0.1) (3.0.8)\n",
      "Requirement already satisfied: contextlib2 in /Users/alexis/Desktop/TF-Object-Detection/tfod/lib/python3.9/site-packages (from object-detection==0.1) (21.6.0)\n",
      "Requirement already satisfied: tf-slim in /Users/alexis/Desktop/TF-Object-Detection/tfod/lib/python3.9/site-packages (from object-detection==0.1) (1.1.0)\n",
      "Requirement already satisfied: six in /Users/alexis/Desktop/TF-Object-Detection/tfod/lib/python3.9/site-packages (from object-detection==0.1) (1.16.0)\n",
      "Requirement already satisfied: pycocotools in /Users/alexis/Desktop/TF-Object-Detection/tfod/lib/python3.9/site-packages (from object-detection==0.1) (2.0.7)\n",
      "Requirement already satisfied: lvis in /Users/alexis/Desktop/TF-Object-Detection/tfod/lib/python3.9/site-packages (from object-detection==0.1) (0.5.3)\n",
      "Requirement already satisfied: scipy in /Users/alexis/Desktop/TF-Object-Detection/tfod/lib/python3.9/site-packages (from object-detection==0.1) (1.12.0)\n",
      "Requirement already satisfied: pandas in /Users/alexis/Desktop/TF-Object-Detection/tfod/lib/python3.9/site-packages (from object-detection==0.1) (2.2.0)\n",
      "Requirement already satisfied: tf-models-official>=2.5.1 in /Users/alexis/Desktop/TF-Object-Detection/tfod/lib/python3.9/site-packages (from object-detection==0.1) (2.5.1)\n",
      "Requirement already satisfied: tensorflow_io in /Users/alexis/Desktop/TF-Object-Detection/tfod/lib/python3.9/site-packages (from object-detection==0.1) (0.36.0)\n",
      "Requirement already satisfied: keras in /Users/alexis/Desktop/TF-Object-Detection/tfod/lib/python3.9/site-packages (from object-detection==0.1) (2.13.1)\n",
      "Requirement already satisfied: pyparsing==2.4.7 in /Users/alexis/Desktop/TF-Object-Detection/tfod/lib/python3.9/site-packages (from object-detection==0.1) (2.4.7)\n",
      "Requirement already satisfied: sacrebleu<=2.2.0 in /Users/alexis/Desktop/TF-Object-Detection/tfod/lib/python3.9/site-packages (from object-detection==0.1) (2.2.0)\n",
      "Requirement already satisfied: portalocker in /Users/alexis/Desktop/TF-Object-Detection/tfod/lib/python3.9/site-packages (from sacrebleu<=2.2.0->object-detection==0.1) (2.8.2)\n",
      "Requirement already satisfied: regex in /Users/alexis/Desktop/TF-Object-Detection/tfod/lib/python3.9/site-packages (from sacrebleu<=2.2.0->object-detection==0.1) (2023.12.25)\n",
      "Requirement already satisfied: tabulate>=0.8.9 in /Users/alexis/Desktop/TF-Object-Detection/tfod/lib/python3.9/site-packages (from sacrebleu<=2.2.0->object-detection==0.1) (0.9.0)\n",
      "Requirement already satisfied: numpy>=1.17 in /Users/alexis/Desktop/TF-Object-Detection/tfod/lib/python3.9/site-packages (from sacrebleu<=2.2.0->object-detection==0.1) (1.24.3)\n",
      "Requirement already satisfied: colorama in /Users/alexis/Desktop/TF-Object-Detection/tfod/lib/python3.9/site-packages (from sacrebleu<=2.2.0->object-detection==0.1) (0.4.6)\n",
      "Requirement already satisfied: gin-config in /Users/alexis/Desktop/TF-Object-Detection/tfod/lib/python3.9/site-packages (from tf-models-official>=2.5.1->object-detection==0.1) (0.5.0)\n",
      "Requirement already satisfied: google-api-python-client>=1.6.7 in /Users/alexis/Desktop/TF-Object-Detection/tfod/lib/python3.9/site-packages (from tf-models-official>=2.5.1->object-detection==0.1) (2.116.0)\n",
      "Requirement already satisfied: kaggle>=1.3.9 in /Users/alexis/Desktop/TF-Object-Detection/tfod/lib/python3.9/site-packages (from tf-models-official>=2.5.1->object-detection==0.1) (1.6.5)\n",
      "Requirement already satisfied: oauth2client in /Users/alexis/Desktop/TF-Object-Detection/tfod/lib/python3.9/site-packages (from tf-models-official>=2.5.1->object-detection==0.1) (4.1.3)\n",
      "Requirement already satisfied: opencv-python-headless in /Users/alexis/Desktop/TF-Object-Detection/tfod/lib/python3.9/site-packages (from tf-models-official>=2.5.1->object-detection==0.1) (4.9.0.80)\n",
      "Requirement already satisfied: psutil>=5.4.3 in /Users/alexis/Desktop/TF-Object-Detection/tfod/lib/python3.9/site-packages (from tf-models-official>=2.5.1->object-detection==0.1) (5.9.8)\n",
      "Requirement already satisfied: py-cpuinfo>=3.3.0 in /Users/alexis/Desktop/TF-Object-Detection/tfod/lib/python3.9/site-packages (from tf-models-official>=2.5.1->object-detection==0.1) (9.0.0)\n",
      "Requirement already satisfied: pyyaml>=5.1 in /Users/alexis/Desktop/TF-Object-Detection/tfod/lib/python3.9/site-packages (from tf-models-official>=2.5.1->object-detection==0.1) (5.3.1)\n",
      "Requirement already satisfied: sentencepiece in /Users/alexis/Desktop/TF-Object-Detection/tfod/lib/python3.9/site-packages (from tf-models-official>=2.5.1->object-detection==0.1) (0.1.99)\n",
      "Requirement already satisfied: seqeval in /Users/alexis/Desktop/TF-Object-Detection/tfod/lib/python3.9/site-packages (from tf-models-official>=2.5.1->object-detection==0.1) (1.2.2)\n",
      "Requirement already satisfied: tensorflow-addons in /Users/alexis/Desktop/TF-Object-Detection/tfod/lib/python3.9/site-packages (from tf-models-official>=2.5.1->object-detection==0.1) (0.23.0)\n",
      "Requirement already satisfied: tensorflow-datasets in /Users/alexis/Desktop/TF-Object-Detection/tfod/lib/python3.9/site-packages (from tf-models-official>=2.5.1->object-detection==0.1) (4.9.3)\n",
      "Requirement already satisfied: tensorflow-hub>=0.6.0 in /Users/alexis/Desktop/TF-Object-Detection/tfod/lib/python3.9/site-packages (from tf-models-official>=2.5.1->object-detection==0.1) (0.16.1)\n",
      "Requirement already satisfied: tensorflow-model-optimization>=0.4.1 in /Users/alexis/Desktop/TF-Object-Detection/tfod/lib/python3.9/site-packages (from tf-models-official>=2.5.1->object-detection==0.1) (0.8.0)\n",
      "Requirement already satisfied: tensorflow>=2.5.0 in /Users/alexis/Desktop/TF-Object-Detection/tfod/lib/python3.9/site-packages (from tf-models-official>=2.5.1->object-detection==0.1) (2.13.0)\n",
      "Requirement already satisfied: python-dateutil>=2.8.2 in /Users/alexis/Desktop/TF-Object-Detection/tfod/lib/python3.9/site-packages (from pandas->object-detection==0.1) (2.8.2)\n",
      "Requirement already satisfied: pytz>=2020.1 in /Users/alexis/Desktop/TF-Object-Detection/tfod/lib/python3.9/site-packages (from pandas->object-detection==0.1) (2024.1)\n",
      "Requirement already satisfied: tzdata>=2022.7 in /Users/alexis/Desktop/TF-Object-Detection/tfod/lib/python3.9/site-packages (from pandas->object-detection==0.1) (2023.4)\n",
      "Requirement already satisfied: absl-py>=0.2.2 in /Users/alexis/Desktop/TF-Object-Detection/tfod/lib/python3.9/site-packages (from tf-slim->object-detection==0.1) (1.4.0)\n",
      "Requirement already satisfied: crcmod<2.0,>=1.7 in /Users/alexis/Desktop/TF-Object-Detection/tfod/lib/python3.9/site-packages (from apache-beam->object-detection==0.1) (1.7)\n",
      "Requirement already satisfied: orjson<4,>=3.9.7 in /Users/alexis/Desktop/TF-Object-Detection/tfod/lib/python3.9/site-packages (from apache-beam->object-detection==0.1) (3.9.13)\n",
      "Requirement already satisfied: dill<0.3.2,>=0.3.1.1 in /Users/alexis/Desktop/TF-Object-Detection/tfod/lib/python3.9/site-packages (from apache-beam->object-detection==0.1) (0.3.1.1)\n",
      "Requirement already satisfied: cloudpickle~=2.2.1 in /Users/alexis/Desktop/TF-Object-Detection/tfod/lib/python3.9/site-packages (from apache-beam->object-detection==0.1) (2.2.1)\n",
      "Requirement already satisfied: fastavro<2,>=0.23.6 in /Users/alexis/Desktop/TF-Object-Detection/tfod/lib/python3.9/site-packages (from apache-beam->object-detection==0.1) (1.9.3)\n",
      "Requirement already satisfied: fasteners<1.0,>=0.3 in /Users/alexis/Desktop/TF-Object-Detection/tfod/lib/python3.9/site-packages (from apache-beam->object-detection==0.1) (0.19)\n",
      "Requirement already satisfied: grpcio!=1.48.0,<2,>=1.33.1 in /Users/alexis/Desktop/TF-Object-Detection/tfod/lib/python3.9/site-packages (from apache-beam->object-detection==0.1) (1.60.1)\n",
      "Requirement already satisfied: hdfs<3.0.0,>=2.1.0 in /Users/alexis/Desktop/TF-Object-Detection/tfod/lib/python3.9/site-packages (from apache-beam->object-detection==0.1) (2.7.3)\n",
      "Requirement already satisfied: httplib2<0.23.0,>=0.8 in /Users/alexis/Desktop/TF-Object-Detection/tfod/lib/python3.9/site-packages (from apache-beam->object-detection==0.1) (0.22.0)\n",
      "Requirement already satisfied: js2py<1,>=0.74 in /Users/alexis/Desktop/TF-Object-Detection/tfod/lib/python3.9/site-packages (from apache-beam->object-detection==0.1) (0.74)\n",
      "Requirement already satisfied: jsonschema<5.0.0,>=4.0.0 in /Users/alexis/Desktop/TF-Object-Detection/tfod/lib/python3.9/site-packages (from apache-beam->object-detection==0.1) (4.21.1)\n",
      "Requirement already satisfied: jsonpickle<4.0.0,>=3.0.0 in /Users/alexis/Desktop/TF-Object-Detection/tfod/lib/python3.9/site-packages (from apache-beam->object-detection==0.1) (3.0.2)\n",
      "Requirement already satisfied: objsize<0.7.0,>=0.6.1 in /Users/alexis/Desktop/TF-Object-Detection/tfod/lib/python3.9/site-packages (from apache-beam->object-detection==0.1) (0.6.1)\n",
      "Requirement already satisfied: packaging>=22.0 in /Users/alexis/Desktop/TF-Object-Detection/tfod/lib/python3.9/site-packages (from apache-beam->object-detection==0.1) (23.2)\n",
      "Requirement already satisfied: pymongo<5.0.0,>=3.8.0 in /Users/alexis/Desktop/TF-Object-Detection/tfod/lib/python3.9/site-packages (from apache-beam->object-detection==0.1) (4.6.1)\n",
      "Requirement already satisfied: proto-plus<2,>=1.7.1 in /Users/alexis/Desktop/TF-Object-Detection/tfod/lib/python3.9/site-packages (from apache-beam->object-detection==0.1) (1.23.0)\n",
      "Requirement already satisfied: protobuf!=4.0.*,!=4.21.*,!=4.22.0,!=4.23.*,!=4.24.*,<4.26.0,>=3.20.3 in /Users/alexis/Desktop/TF-Object-Detection/tfod/lib/python3.9/site-packages (from apache-beam->object-detection==0.1) (3.20.3)\n",
      "Requirement already satisfied: pydot<2,>=1.2.0 in /Users/alexis/Desktop/TF-Object-Detection/tfod/lib/python3.9/site-packages (from apache-beam->object-detection==0.1) (1.4.2)\n",
      "Requirement already satisfied: requests<3.0.0,>=2.24.0 in /Users/alexis/Desktop/TF-Object-Detection/tfod/lib/python3.9/site-packages (from apache-beam->object-detection==0.1) (2.31.0)\n",
      "Requirement already satisfied: typing-extensions>=3.7.0 in /Users/alexis/Desktop/TF-Object-Detection/tfod/lib/python3.9/site-packages (from apache-beam->object-detection==0.1) (4.5.0)\n",
      "Requirement already satisfied: zstandard<1,>=0.18.0 in /Users/alexis/Desktop/TF-Object-Detection/tfod/lib/python3.9/site-packages (from apache-beam->object-detection==0.1) (0.22.0)\n",
      "Requirement already satisfied: pyarrow<15.0.0,>=3.0.0 in /Users/alexis/Desktop/TF-Object-Detection/tfod/lib/python3.9/site-packages (from apache-beam->object-detection==0.1) (14.0.2)\n",
      "Requirement already satisfied: pyarrow-hotfix<1 in /Users/alexis/Desktop/TF-Object-Detection/tfod/lib/python3.9/site-packages (from apache-beam->object-detection==0.1) (0.6)\n",
      "Requirement already satisfied: cycler>=0.10.0 in /Users/alexis/Desktop/TF-Object-Detection/tfod/lib/python3.9/site-packages (from lvis->object-detection==0.1) (0.12.1)\n",
      "Requirement already satisfied: kiwisolver>=1.1.0 in /Users/alexis/Desktop/TF-Object-Detection/tfod/lib/python3.9/site-packages (from lvis->object-detection==0.1) (1.4.5)\n",
      "Requirement already satisfied: opencv-python>=4.1.0.25 in /Users/alexis/Desktop/TF-Object-Detection/tfod/lib/python3.9/site-packages (from lvis->object-detection==0.1) (4.9.0.80)\n",
      "Requirement already satisfied: contourpy>=1.0.1 in /Users/alexis/Desktop/TF-Object-Detection/tfod/lib/python3.9/site-packages (from matplotlib->object-detection==0.1) (1.2.0)\n",
      "Requirement already satisfied: fonttools>=4.22.0 in /Users/alexis/Desktop/TF-Object-Detection/tfod/lib/python3.9/site-packages (from matplotlib->object-detection==0.1) (4.48.1)\n",
      "Requirement already satisfied: importlib-resources>=3.2.0 in /Users/alexis/Desktop/TF-Object-Detection/tfod/lib/python3.9/site-packages (from matplotlib->object-detection==0.1) (6.1.1)\n",
      "Requirement already satisfied: tensorflow-io-gcs-filesystem==0.36.0 in /Users/alexis/Desktop/TF-Object-Detection/tfod/lib/python3.9/site-packages (from tensorflow_io->object-detection==0.1) (0.36.0)\n",
      "Requirement already satisfied: google-auth<3.0.0.dev0,>=1.19.0 in /Users/alexis/Desktop/TF-Object-Detection/tfod/lib/python3.9/site-packages (from google-api-python-client>=1.6.7->tf-models-official>=2.5.1->object-detection==0.1) (2.27.0)\n",
      "Requirement already satisfied: google-auth-httplib2>=0.1.0 in /Users/alexis/Desktop/TF-Object-Detection/tfod/lib/python3.9/site-packages (from google-api-python-client>=1.6.7->tf-models-official>=2.5.1->object-detection==0.1) (0.2.0)\n",
      "Requirement already satisfied: google-api-core!=2.0.*,!=2.1.*,!=2.2.*,!=2.3.0,<3.0.0.dev0,>=1.31.5 in /Users/alexis/Desktop/TF-Object-Detection/tfod/lib/python3.9/site-packages (from google-api-python-client>=1.6.7->tf-models-official>=2.5.1->object-detection==0.1) (2.16.2)\n",
      "Requirement already satisfied: uritemplate<5,>=3.0.1 in /Users/alexis/Desktop/TF-Object-Detection/tfod/lib/python3.9/site-packages (from google-api-python-client>=1.6.7->tf-models-official>=2.5.1->object-detection==0.1) (4.1.1)\n",
      "Requirement already satisfied: docopt in /Users/alexis/Desktop/TF-Object-Detection/tfod/lib/python3.9/site-packages (from hdfs<3.0.0,>=2.1.0->apache-beam->object-detection==0.1) (0.6.2)\n",
      "Requirement already satisfied: zipp>=3.1.0 in /Users/alexis/Desktop/TF-Object-Detection/tfod/lib/python3.9/site-packages (from importlib-resources>=3.2.0->matplotlib->object-detection==0.1) (3.17.0)\n",
      "Requirement already satisfied: tzlocal>=1.2 in /Users/alexis/Desktop/TF-Object-Detection/tfod/lib/python3.9/site-packages (from js2py<1,>=0.74->apache-beam->object-detection==0.1) (5.2)\n",
      "Requirement already satisfied: pyjsparser>=2.5.1 in /Users/alexis/Desktop/TF-Object-Detection/tfod/lib/python3.9/site-packages (from js2py<1,>=0.74->apache-beam->object-detection==0.1) (2.7.1)\n",
      "Requirement already satisfied: attrs>=22.2.0 in /Users/alexis/Desktop/TF-Object-Detection/tfod/lib/python3.9/site-packages (from jsonschema<5.0.0,>=4.0.0->apache-beam->object-detection==0.1) (23.2.0)\n",
      "Requirement already satisfied: jsonschema-specifications>=2023.03.6 in /Users/alexis/Desktop/TF-Object-Detection/tfod/lib/python3.9/site-packages (from jsonschema<5.0.0,>=4.0.0->apache-beam->object-detection==0.1) (2023.12.1)\n",
      "Requirement already satisfied: referencing>=0.28.4 in /Users/alexis/Desktop/TF-Object-Detection/tfod/lib/python3.9/site-packages (from jsonschema<5.0.0,>=4.0.0->apache-beam->object-detection==0.1) (0.33.0)\n",
      "Requirement already satisfied: rpds-py>=0.7.1 in /Users/alexis/Desktop/TF-Object-Detection/tfod/lib/python3.9/site-packages (from jsonschema<5.0.0,>=4.0.0->apache-beam->object-detection==0.1) (0.17.1)\n",
      "Requirement already satisfied: certifi in /Users/alexis/Desktop/TF-Object-Detection/tfod/lib/python3.9/site-packages (from kaggle>=1.3.9->tf-models-official>=2.5.1->object-detection==0.1) (2024.2.2)\n",
      "Requirement already satisfied: tqdm in /Users/alexis/Desktop/TF-Object-Detection/tfod/lib/python3.9/site-packages (from kaggle>=1.3.9->tf-models-official>=2.5.1->object-detection==0.1) (4.66.1)\n",
      "Requirement already satisfied: python-slugify in /Users/alexis/Desktop/TF-Object-Detection/tfod/lib/python3.9/site-packages (from kaggle>=1.3.9->tf-models-official>=2.5.1->object-detection==0.1) (8.0.3)\n",
      "Requirement already satisfied: urllib3 in /Users/alexis/Desktop/TF-Object-Detection/tfod/lib/python3.9/site-packages (from kaggle>=1.3.9->tf-models-official>=2.5.1->object-detection==0.1) (2.2.0)\n",
      "Requirement already satisfied: bleach in /Users/alexis/Desktop/TF-Object-Detection/tfod/lib/python3.9/site-packages (from kaggle>=1.3.9->tf-models-official>=2.5.1->object-detection==0.1) (6.1.0)\n",
      "Requirement already satisfied: dnspython<3.0.0,>=1.16.0 in /Users/alexis/Desktop/TF-Object-Detection/tfod/lib/python3.9/site-packages (from pymongo<5.0.0,>=3.8.0->apache-beam->object-detection==0.1) (2.5.0)\n",
      "Requirement already satisfied: charset-normalizer<4,>=2 in /Users/alexis/Desktop/TF-Object-Detection/tfod/lib/python3.9/site-packages (from requests<3.0.0,>=2.24.0->apache-beam->object-detection==0.1) (3.3.2)\n",
      "Requirement already satisfied: idna<4,>=2.5 in /Users/alexis/Desktop/TF-Object-Detection/tfod/lib/python3.9/site-packages (from requests<3.0.0,>=2.24.0->apache-beam->object-detection==0.1) (3.6)\n",
      "Requirement already satisfied: tensorflow-macos==2.13.0 in /Users/alexis/Desktop/TF-Object-Detection/tfod/lib/python3.9/site-packages (from tensorflow>=2.5.0->tf-models-official>=2.5.1->object-detection==0.1) (2.13.0)\n",
      "Requirement already satisfied: astunparse>=1.6.0 in /Users/alexis/Desktop/TF-Object-Detection/tfod/lib/python3.9/site-packages (from tensorflow-macos==2.13.0->tensorflow>=2.5.0->tf-models-official>=2.5.1->object-detection==0.1) (1.6.3)\n",
      "Requirement already satisfied: flatbuffers>=23.1.21 in /Users/alexis/Desktop/TF-Object-Detection/tfod/lib/python3.9/site-packages (from tensorflow-macos==2.13.0->tensorflow>=2.5.0->tf-models-official>=2.5.1->object-detection==0.1) (23.5.26)\n",
      "Requirement already satisfied: gast<=0.4.0,>=0.2.1 in /Users/alexis/Desktop/TF-Object-Detection/tfod/lib/python3.9/site-packages (from tensorflow-macos==2.13.0->tensorflow>=2.5.0->tf-models-official>=2.5.1->object-detection==0.1) (0.4.0)\n",
      "Requirement already satisfied: google-pasta>=0.1.1 in /Users/alexis/Desktop/TF-Object-Detection/tfod/lib/python3.9/site-packages (from tensorflow-macos==2.13.0->tensorflow>=2.5.0->tf-models-official>=2.5.1->object-detection==0.1) (0.2.0)\n",
      "Requirement already satisfied: h5py>=2.9.0 in /Users/alexis/Desktop/TF-Object-Detection/tfod/lib/python3.9/site-packages (from tensorflow-macos==2.13.0->tensorflow>=2.5.0->tf-models-official>=2.5.1->object-detection==0.1) (3.10.0)\n",
      "Requirement already satisfied: libclang>=13.0.0 in /Users/alexis/Desktop/TF-Object-Detection/tfod/lib/python3.9/site-packages (from tensorflow-macos==2.13.0->tensorflow>=2.5.0->tf-models-official>=2.5.1->object-detection==0.1) (16.0.6)\n",
      "Requirement already satisfied: opt-einsum>=2.3.2 in /Users/alexis/Desktop/TF-Object-Detection/tfod/lib/python3.9/site-packages (from tensorflow-macos==2.13.0->tensorflow>=2.5.0->tf-models-official>=2.5.1->object-detection==0.1) (3.3.0)\n",
      "Requirement already satisfied: setuptools in /Users/alexis/Desktop/TF-Object-Detection/tfod/lib/python3.9/site-packages (from tensorflow-macos==2.13.0->tensorflow>=2.5.0->tf-models-official>=2.5.1->object-detection==0.1) (49.2.1)\n",
      "Requirement already satisfied: termcolor>=1.1.0 in /Users/alexis/Desktop/TF-Object-Detection/tfod/lib/python3.9/site-packages (from tensorflow-macos==2.13.0->tensorflow>=2.5.0->tf-models-official>=2.5.1->object-detection==0.1) (2.4.0)\n",
      "Requirement already satisfied: wrapt>=1.11.0 in /Users/alexis/Desktop/TF-Object-Detection/tfod/lib/python3.9/site-packages (from tensorflow-macos==2.13.0->tensorflow>=2.5.0->tf-models-official>=2.5.1->object-detection==0.1) (1.16.0)\n",
      "Requirement already satisfied: tensorboard<2.14,>=2.13 in /Users/alexis/Desktop/TF-Object-Detection/tfod/lib/python3.9/site-packages (from tensorflow-macos==2.13.0->tensorflow>=2.5.0->tf-models-official>=2.5.1->object-detection==0.1) (2.13.0)\n",
      "Requirement already satisfied: tensorflow-estimator<2.14,>=2.13.0 in /Users/alexis/Desktop/TF-Object-Detection/tfod/lib/python3.9/site-packages (from tensorflow-macos==2.13.0->tensorflow>=2.5.0->tf-models-official>=2.5.1->object-detection==0.1) (2.13.0)\n",
      "Requirement already satisfied: tf-keras>=2.14.1 in /Users/alexis/Desktop/TF-Object-Detection/tfod/lib/python3.9/site-packages (from tensorflow-hub>=0.6.0->tf-models-official>=2.5.1->object-detection==0.1) (2.15.0)\n",
      "Requirement already satisfied: dm-tree~=0.1.1 in /Users/alexis/Desktop/TF-Object-Detection/tfod/lib/python3.9/site-packages (from tensorflow-model-optimization>=0.4.1->tf-models-official>=2.5.1->object-detection==0.1) (0.1.8)\n",
      "Requirement already satisfied: pyasn1>=0.1.7 in /Users/alexis/Desktop/TF-Object-Detection/tfod/lib/python3.9/site-packages (from oauth2client->tf-models-official>=2.5.1->object-detection==0.1) (0.5.1)\n",
      "Requirement already satisfied: pyasn1-modules>=0.0.5 in /Users/alexis/Desktop/TF-Object-Detection/tfod/lib/python3.9/site-packages (from oauth2client->tf-models-official>=2.5.1->object-detection==0.1) (0.3.0)\n",
      "Requirement already satisfied: rsa>=3.1.4 in /Users/alexis/Desktop/TF-Object-Detection/tfod/lib/python3.9/site-packages (from oauth2client->tf-models-official>=2.5.1->object-detection==0.1) (4.9)\n",
      "Requirement already satisfied: scikit-learn>=0.21.3 in /Users/alexis/Desktop/TF-Object-Detection/tfod/lib/python3.9/site-packages (from seqeval->tf-models-official>=2.5.1->object-detection==0.1) (1.4.0)\n",
      "Requirement already satisfied: typeguard<3.0.0,>=2.7 in /Users/alexis/Desktop/TF-Object-Detection/tfod/lib/python3.9/site-packages (from tensorflow-addons->tf-models-official>=2.5.1->object-detection==0.1) (2.13.3)\n",
      "Requirement already satisfied: array-record in /Users/alexis/Desktop/TF-Object-Detection/tfod/lib/python3.9/site-packages (from tensorflow-datasets->tf-models-official>=2.5.1->object-detection==0.1) (0.4.1)\n",
      "Requirement already satisfied: click in /Users/alexis/Desktop/TF-Object-Detection/tfod/lib/python3.9/site-packages (from tensorflow-datasets->tf-models-official>=2.5.1->object-detection==0.1) (8.1.7)\n",
      "Requirement already satisfied: etils>=0.9.0 in /Users/alexis/Desktop/TF-Object-Detection/tfod/lib/python3.9/site-packages (from etils[enp,epath,etree]>=0.9.0->tensorflow-datasets->tf-models-official>=2.5.1->object-detection==0.1) (1.5.2)\n",
      "Requirement already satisfied: promise in /Users/alexis/Desktop/TF-Object-Detection/tfod/lib/python3.9/site-packages (from tensorflow-datasets->tf-models-official>=2.5.1->object-detection==0.1) (2.3)\n",
      "Requirement already satisfied: tensorflow-metadata in /Users/alexis/Desktop/TF-Object-Detection/tfod/lib/python3.9/site-packages (from tensorflow-datasets->tf-models-official>=2.5.1->object-detection==0.1) (1.14.0)\n",
      "Requirement already satisfied: toml in /Users/alexis/Desktop/TF-Object-Detection/tfod/lib/python3.9/site-packages (from tensorflow-datasets->tf-models-official>=2.5.1->object-detection==0.1) (0.10.2)\n",
      "Requirement already satisfied: fsspec in /Users/alexis/Desktop/TF-Object-Detection/tfod/lib/python3.9/site-packages (from etils[enp,epath,etree]>=0.9.0->tensorflow-datasets->tf-models-official>=2.5.1->object-detection==0.1) (2024.2.0)\n",
      "Requirement already satisfied: googleapis-common-protos<2.0.dev0,>=1.56.2 in /Users/alexis/Desktop/TF-Object-Detection/tfod/lib/python3.9/site-packages (from google-api-core!=2.0.*,!=2.1.*,!=2.2.*,!=2.3.0,<3.0.0.dev0,>=1.31.5->google-api-python-client>=1.6.7->tf-models-official>=2.5.1->object-detection==0.1) (1.62.0)\n",
      "Requirement already satisfied: cachetools<6.0,>=2.0.0 in /Users/alexis/Desktop/TF-Object-Detection/tfod/lib/python3.9/site-packages (from google-auth<3.0.0.dev0,>=1.19.0->google-api-python-client>=1.6.7->tf-models-official>=2.5.1->object-detection==0.1) (5.3.2)\n",
      "Requirement already satisfied: joblib>=1.2.0 in /Users/alexis/Desktop/TF-Object-Detection/tfod/lib/python3.9/site-packages (from scikit-learn>=0.21.3->seqeval->tf-models-official>=2.5.1->object-detection==0.1) (1.3.2)\n",
      "Requirement already satisfied: threadpoolctl>=2.0.0 in /Users/alexis/Desktop/TF-Object-Detection/tfod/lib/python3.9/site-packages (from scikit-learn>=0.21.3->seqeval->tf-models-official>=2.5.1->object-detection==0.1) (3.2.0)\n",
      "Requirement already satisfied: webencodings in /Users/alexis/Desktop/TF-Object-Detection/tfod/lib/python3.9/site-packages (from bleach->kaggle>=1.3.9->tf-models-official>=2.5.1->object-detection==0.1) (0.5.1)\n",
      "Requirement already satisfied: text-unidecode>=1.3 in /Users/alexis/Desktop/TF-Object-Detection/tfod/lib/python3.9/site-packages (from python-slugify->kaggle>=1.3.9->tf-models-official>=2.5.1->object-detection==0.1) (1.3)\n",
      "Requirement already satisfied: wheel<1.0,>=0.23.0 in /Users/alexis/Desktop/TF-Object-Detection/tfod/lib/python3.9/site-packages (from astunparse>=1.6.0->tensorflow-macos==2.13.0->tensorflow>=2.5.0->tf-models-official>=2.5.1->object-detection==0.1) (0.42.0)\n",
      "Requirement already satisfied: google-auth-oauthlib<1.1,>=0.5 in /Users/alexis/Desktop/TF-Object-Detection/tfod/lib/python3.9/site-packages (from tensorboard<2.14,>=2.13->tensorflow-macos==2.13.0->tensorflow>=2.5.0->tf-models-official>=2.5.1->object-detection==0.1) (1.0.0)\n",
      "Requirement already satisfied: markdown>=2.6.8 in /Users/alexis/Desktop/TF-Object-Detection/tfod/lib/python3.9/site-packages (from tensorboard<2.14,>=2.13->tensorflow-macos==2.13.0->tensorflow>=2.5.0->tf-models-official>=2.5.1->object-detection==0.1) (3.5.2)\n",
      "Requirement already satisfied: tensorboard-data-server<0.8.0,>=0.7.0 in /Users/alexis/Desktop/TF-Object-Detection/tfod/lib/python3.9/site-packages (from tensorboard<2.14,>=2.13->tensorflow-macos==2.13.0->tensorflow>=2.5.0->tf-models-official>=2.5.1->object-detection==0.1) (0.7.2)\n",
      "Requirement already satisfied: werkzeug>=1.0.1 in /Users/alexis/Desktop/TF-Object-Detection/tfod/lib/python3.9/site-packages (from tensorboard<2.14,>=2.13->tensorflow-macos==2.13.0->tensorflow>=2.5.0->tf-models-official>=2.5.1->object-detection==0.1) (3.0.1)\n",
      "Requirement already satisfied: requests-oauthlib>=0.7.0 in /Users/alexis/Desktop/TF-Object-Detection/tfod/lib/python3.9/site-packages (from google-auth-oauthlib<1.1,>=0.5->tensorboard<2.14,>=2.13->tensorflow-macos==2.13.0->tensorflow>=2.5.0->tf-models-official>=2.5.1->object-detection==0.1) (1.3.1)\n",
      "Requirement already satisfied: importlib-metadata>=4.4 in /Users/alexis/Desktop/TF-Object-Detection/tfod/lib/python3.9/site-packages (from markdown>=2.6.8->tensorboard<2.14,>=2.13->tensorflow-macos==2.13.0->tensorflow>=2.5.0->tf-models-official>=2.5.1->object-detection==0.1) (7.0.1)\n",
      "Requirement already satisfied: MarkupSafe>=2.1.1 in /Users/alexis/Desktop/TF-Object-Detection/tfod/lib/python3.9/site-packages (from werkzeug>=1.0.1->tensorboard<2.14,>=2.13->tensorflow-macos==2.13.0->tensorflow>=2.5.0->tf-models-official>=2.5.1->object-detection==0.1) (2.1.5)\n",
      "Requirement already satisfied: oauthlib>=3.0.0 in /Users/alexis/Desktop/TF-Object-Detection/tfod/lib/python3.9/site-packages (from requests-oauthlib>=0.7.0->google-auth-oauthlib<1.1,>=0.5->tensorboard<2.14,>=2.13->tensorflow-macos==2.13.0->tensorflow>=2.5.0->tf-models-official>=2.5.1->object-detection==0.1) (3.2.2)\n",
      "Building wheels for collected packages: object-detection\n",
      "  Building wheel for object-detection (setup.py) ... \u001b[?25ldone\n",
      "\u001b[?25h  Created wheel for object-detection: filename=object_detection-0.1-py3-none-any.whl size=1656836 sha256=3039b940fcb8ed5980ff7f9a0c721ead7f80253e82fe597810432324e341b29f\n",
      "  Stored in directory: /private/var/folders/96/js1p33753k7gkmscxgsp7tq80000gn/T/pip-ephem-wheel-cache-_11psqoa/wheels/08/25/26/956dfcbbb66a7a3d46b5a12dfeb014e1ab353f7757e33d2627\n",
      "Successfully built object-detection\n",
      "Installing collected packages: object-detection\n",
      "  Attempting uninstall: object-detection\n",
      "    Found existing installation: object-detection 0.1\n",
      "    Uninstalling object-detection-0.1:\n",
      "      Successfully uninstalled object-detection-0.1\n",
      "Successfully installed object-detection-0.1\n"
     ]
    }
   ],
   "source": [
    "# Install Tensorflow Object Detection \n",
    "if os.name=='posix':  \n",
    "    !pip install protobuf==3.20.3\n",
    "    !cd Tensorflow/models/research && protoc object_detection/protos/*.proto --python_out=. && cp object_detection/packages/tf2/setup.py . && python -m pip install . \n",
    "    \n",
    "if os.name=='nt':\n",
    "    url=\"https://github.com/protocolbuffers/protobuf/releases/download/v3.15.6/protoc-3.15.6-win64.zip\"\n",
    "    wget.download(url)\n",
    "    !move protoc-3.15.6-win64.zip {paths['PROTOC_PATH']}\n",
    "    !cd {paths['PROTOC_PATH']} && tar -xf protoc-3.15.6-win64.zip\n",
    "    os.environ['PATH'] += os.pathsep + os.path.abspath(os.path.join(paths['PROTOC_PATH'], 'bin'))   \n",
    "    !cd Tensorflow/models/research && protoc object_detection/protos/*.proto --python_out=. && copy object_detection\\\\packages\\\\tf2\\\\setup.py setup.py && python setup.py build && python setup.py install\n",
    "    !cd Tensorflow/models/research/slim && pip install -e . "
   ]
  },
  {
   "cell_type": "markdown",
   "id": "cae613f6-03e6-4a6b-82df-5fbd2c51ad1b",
   "metadata": {},
   "source": [
    "### Note: If you encounter the error ModuleNotFoundError: No module named 'tensorflow.python.keras.layers.preprocessing' when running the cell below, please modify line #31 in tfod/lib/python(version)/site-packages/vision/image_classification/augment.py to the following: `from tensorflow.keras.preprocessing import image as image_ops`"
   ]
  },
  {
   "cell_type": "code",
   "execution_count": 10,
   "id": "95a5bfd8-f49e-4112-a1d8-6d965608329a",
   "metadata": {},
   "outputs": [
    {
     "name": "stdout",
     "output_type": "stream",
     "text": [
      "Running tests under Python 3.9.1: /Users/alexis/Desktop/TF-Object-Detection/tfod/bin/python\n",
      "[ RUN      ] ModelBuilderTF2Test.test_create_center_net_deepmac\n",
      "WARNING:tensorflow:`tf.keras.layers.experimental.SyncBatchNormalization` endpoint is deprecated and will be removed in a future release. Please use `tf.keras.layers.BatchNormalization` with parameter `synchronized` set to True.\n",
      "W0208 00:02:40.678287 8042830912 batch_normalization.py:1531] `tf.keras.layers.experimental.SyncBatchNormalization` endpoint is deprecated and will be removed in a future release. Please use `tf.keras.layers.BatchNormalization` with parameter `synchronized` set to True.\n",
      "/Users/alexis/Desktop/TF-Object-Detection/tfod/lib/python3.9/site-packages/object_detection/builders/model_builder.py:1112: DeprecationWarning: The 'warn' function is deprecated, use 'warning' instead\n",
      "  logging.warn(('Building experimental DeepMAC meta-arch.'\n",
      "W0208 00:02:40.799335 8042830912 model_builder.py:1112] Building experimental DeepMAC meta-arch. Some features may be omitted.\n",
      "INFO:tensorflow:time(__main__.ModelBuilderTF2Test.test_create_center_net_deepmac): 0.28s\n",
      "I0208 00:02:40.931341 8042830912 test_util.py:2462] time(__main__.ModelBuilderTF2Test.test_create_center_net_deepmac): 0.28s\n",
      "[       OK ] ModelBuilderTF2Test.test_create_center_net_deepmac\n",
      "[ RUN      ] ModelBuilderTF2Test.test_create_center_net_model0 (customize_head_params=True)\n",
      "INFO:tensorflow:time(__main__.ModelBuilderTF2Test.test_create_center_net_model0 (customize_head_params=True)): 0.31s\n",
      "I0208 00:02:41.245836 8042830912 test_util.py:2462] time(__main__.ModelBuilderTF2Test.test_create_center_net_model0 (customize_head_params=True)): 0.31s\n",
      "[       OK ] ModelBuilderTF2Test.test_create_center_net_model0 (customize_head_params=True)\n",
      "[ RUN      ] ModelBuilderTF2Test.test_create_center_net_model1 (customize_head_params=False)\n",
      "INFO:tensorflow:time(__main__.ModelBuilderTF2Test.test_create_center_net_model1 (customize_head_params=False)): 0.21s\n",
      "I0208 00:02:41.454476 8042830912 test_util.py:2462] time(__main__.ModelBuilderTF2Test.test_create_center_net_model1 (customize_head_params=False)): 0.21s\n",
      "[       OK ] ModelBuilderTF2Test.test_create_center_net_model1 (customize_head_params=False)\n",
      "[ RUN      ] ModelBuilderTF2Test.test_create_center_net_model_from_keypoints\n",
      "INFO:tensorflow:time(__main__.ModelBuilderTF2Test.test_create_center_net_model_from_keypoints): 0.13s\n",
      "I0208 00:02:41.584122 8042830912 test_util.py:2462] time(__main__.ModelBuilderTF2Test.test_create_center_net_model_from_keypoints): 0.13s\n",
      "[       OK ] ModelBuilderTF2Test.test_create_center_net_model_from_keypoints\n",
      "[ RUN      ] ModelBuilderTF2Test.test_create_center_net_model_mobilenet\n",
      "INFO:tensorflow:time(__main__.ModelBuilderTF2Test.test_create_center_net_model_mobilenet): 0.92s\n",
      "I0208 00:02:42.506362 8042830912 test_util.py:2462] time(__main__.ModelBuilderTF2Test.test_create_center_net_model_mobilenet): 0.92s\n",
      "[       OK ] ModelBuilderTF2Test.test_create_center_net_model_mobilenet\n",
      "[ RUN      ] ModelBuilderTF2Test.test_create_experimental_model\n",
      "INFO:tensorflow:time(__main__.ModelBuilderTF2Test.test_create_experimental_model): 0.0s\n",
      "I0208 00:02:42.507928 8042830912 test_util.py:2462] time(__main__.ModelBuilderTF2Test.test_create_experimental_model): 0.0s\n",
      "[       OK ] ModelBuilderTF2Test.test_create_experimental_model\n",
      "[ RUN      ] ModelBuilderTF2Test.test_create_faster_rcnn_from_config_with_crop_feature0 (True)\n",
      "INFO:tensorflow:time(__main__.ModelBuilderTF2Test.test_create_faster_rcnn_from_config_with_crop_feature0 (True)): 0.01s\n",
      "I0208 00:02:42.519329 8042830912 test_util.py:2462] time(__main__.ModelBuilderTF2Test.test_create_faster_rcnn_from_config_with_crop_feature0 (True)): 0.01s\n",
      "[       OK ] ModelBuilderTF2Test.test_create_faster_rcnn_from_config_with_crop_feature0 (True)\n",
      "[ RUN      ] ModelBuilderTF2Test.test_create_faster_rcnn_from_config_with_crop_feature1 (False)\n",
      "INFO:tensorflow:time(__main__.ModelBuilderTF2Test.test_create_faster_rcnn_from_config_with_crop_feature1 (False)): 0.01s\n",
      "I0208 00:02:42.526880 8042830912 test_util.py:2462] time(__main__.ModelBuilderTF2Test.test_create_faster_rcnn_from_config_with_crop_feature1 (False)): 0.01s\n",
      "[       OK ] ModelBuilderTF2Test.test_create_faster_rcnn_from_config_with_crop_feature1 (False)\n",
      "[ RUN      ] ModelBuilderTF2Test.test_create_faster_rcnn_model_from_config_with_example_miner\n",
      "INFO:tensorflow:time(__main__.ModelBuilderTF2Test.test_create_faster_rcnn_model_from_config_with_example_miner): 0.01s\n",
      "I0208 00:02:42.536132 8042830912 test_util.py:2462] time(__main__.ModelBuilderTF2Test.test_create_faster_rcnn_model_from_config_with_example_miner): 0.01s\n",
      "[       OK ] ModelBuilderTF2Test.test_create_faster_rcnn_model_from_config_with_example_miner\n",
      "[ RUN      ] ModelBuilderTF2Test.test_create_faster_rcnn_models_from_config_faster_rcnn_with_matmul\n",
      "INFO:tensorflow:time(__main__.ModelBuilderTF2Test.test_create_faster_rcnn_models_from_config_faster_rcnn_with_matmul): 0.05s\n",
      "I0208 00:02:42.587424 8042830912 test_util.py:2462] time(__main__.ModelBuilderTF2Test.test_create_faster_rcnn_models_from_config_faster_rcnn_with_matmul): 0.05s\n",
      "[       OK ] ModelBuilderTF2Test.test_create_faster_rcnn_models_from_config_faster_rcnn_with_matmul\n",
      "[ RUN      ] ModelBuilderTF2Test.test_create_faster_rcnn_models_from_config_faster_rcnn_without_matmul\n",
      "INFO:tensorflow:time(__main__.ModelBuilderTF2Test.test_create_faster_rcnn_models_from_config_faster_rcnn_without_matmul): 0.05s\n",
      "I0208 00:02:42.634260 8042830912 test_util.py:2462] time(__main__.ModelBuilderTF2Test.test_create_faster_rcnn_models_from_config_faster_rcnn_without_matmul): 0.05s\n",
      "[       OK ] ModelBuilderTF2Test.test_create_faster_rcnn_models_from_config_faster_rcnn_without_matmul\n",
      "[ RUN      ] ModelBuilderTF2Test.test_create_faster_rcnn_models_from_config_mask_rcnn_with_matmul\n",
      "INFO:tensorflow:time(__main__.ModelBuilderTF2Test.test_create_faster_rcnn_models_from_config_mask_rcnn_with_matmul): 0.05s\n",
      "I0208 00:02:42.682045 8042830912 test_util.py:2462] time(__main__.ModelBuilderTF2Test.test_create_faster_rcnn_models_from_config_mask_rcnn_with_matmul): 0.05s\n",
      "[       OK ] ModelBuilderTF2Test.test_create_faster_rcnn_models_from_config_mask_rcnn_with_matmul\n",
      "[ RUN      ] ModelBuilderTF2Test.test_create_faster_rcnn_models_from_config_mask_rcnn_without_matmul\n",
      "INFO:tensorflow:time(__main__.ModelBuilderTF2Test.test_create_faster_rcnn_models_from_config_mask_rcnn_without_matmul): 0.05s\n",
      "I0208 00:02:42.730304 8042830912 test_util.py:2462] time(__main__.ModelBuilderTF2Test.test_create_faster_rcnn_models_from_config_mask_rcnn_without_matmul): 0.05s\n",
      "[       OK ] ModelBuilderTF2Test.test_create_faster_rcnn_models_from_config_mask_rcnn_without_matmul\n",
      "[ RUN      ] ModelBuilderTF2Test.test_create_rfcn_model_from_config\n",
      "INFO:tensorflow:time(__main__.ModelBuilderTF2Test.test_create_rfcn_model_from_config): 0.05s\n",
      "I0208 00:02:42.777268 8042830912 test_util.py:2462] time(__main__.ModelBuilderTF2Test.test_create_rfcn_model_from_config): 0.05s\n",
      "[       OK ] ModelBuilderTF2Test.test_create_rfcn_model_from_config\n",
      "[ RUN      ] ModelBuilderTF2Test.test_create_ssd_fpn_model_from_config\n",
      "INFO:tensorflow:time(__main__.ModelBuilderTF2Test.test_create_ssd_fpn_model_from_config): 0.01s\n",
      "I0208 00:02:42.791626 8042830912 test_util.py:2462] time(__main__.ModelBuilderTF2Test.test_create_ssd_fpn_model_from_config): 0.01s\n",
      "[       OK ] ModelBuilderTF2Test.test_create_ssd_fpn_model_from_config\n",
      "[ RUN      ] ModelBuilderTF2Test.test_create_ssd_models_from_config\n",
      "I0208 00:02:42.880892 8042830912 ssd_efficientnet_bifpn_feature_extractor.py:161] EfficientDet EfficientNet backbone version: efficientnet-b0\n",
      "I0208 00:02:42.880965 8042830912 ssd_efficientnet_bifpn_feature_extractor.py:163] EfficientDet BiFPN num filters: 64\n",
      "I0208 00:02:42.880990 8042830912 ssd_efficientnet_bifpn_feature_extractor.py:164] EfficientDet BiFPN num iterations: 3\n",
      "I0208 00:02:42.882036 8042830912 efficientnet_model.py:147] round_filter input=32 output=32\n",
      "I0208 00:02:42.893242 8042830912 efficientnet_model.py:147] round_filter input=32 output=32\n",
      "I0208 00:02:42.893317 8042830912 efficientnet_model.py:147] round_filter input=16 output=16\n",
      "I0208 00:02:42.929200 8042830912 efficientnet_model.py:147] round_filter input=16 output=16\n",
      "I0208 00:02:42.929276 8042830912 efficientnet_model.py:147] round_filter input=24 output=24\n",
      "I0208 00:02:43.018496 8042830912 efficientnet_model.py:147] round_filter input=24 output=24\n",
      "I0208 00:02:43.018569 8042830912 efficientnet_model.py:147] round_filter input=40 output=40\n",
      "I0208 00:02:43.102212 8042830912 efficientnet_model.py:147] round_filter input=40 output=40\n",
      "I0208 00:02:43.102283 8042830912 efficientnet_model.py:147] round_filter input=80 output=80\n",
      "I0208 00:02:43.334836 8042830912 efficientnet_model.py:147] round_filter input=80 output=80\n",
      "I0208 00:02:43.334912 8042830912 efficientnet_model.py:147] round_filter input=112 output=112\n",
      "I0208 00:02:43.459052 8042830912 efficientnet_model.py:147] round_filter input=112 output=112\n",
      "I0208 00:02:43.459130 8042830912 efficientnet_model.py:147] round_filter input=192 output=192\n",
      "I0208 00:02:43.630527 8042830912 efficientnet_model.py:147] round_filter input=192 output=192\n",
      "I0208 00:02:43.630599 8042830912 efficientnet_model.py:147] round_filter input=320 output=320\n",
      "I0208 00:02:43.676488 8042830912 efficientnet_model.py:147] round_filter input=1280 output=1280\n",
      "I0208 00:02:43.699229 8042830912 efficientnet_model.py:458] Building model efficientnet with params ModelConfig(width_coefficient=1.0, depth_coefficient=1.0, resolution=224, dropout_rate=0.2, blocks=(BlockConfig(input_filters=32, output_filters=16, kernel_size=3, num_repeat=1, expand_ratio=1, strides=(1, 1), se_ratio=0.25, id_skip=True, fused_conv=False, conv_type='depthwise'), BlockConfig(input_filters=16, output_filters=24, kernel_size=3, num_repeat=2, expand_ratio=6, strides=(2, 2), se_ratio=0.25, id_skip=True, fused_conv=False, conv_type='depthwise'), BlockConfig(input_filters=24, output_filters=40, kernel_size=5, num_repeat=2, expand_ratio=6, strides=(2, 2), se_ratio=0.25, id_skip=True, fused_conv=False, conv_type='depthwise'), BlockConfig(input_filters=40, output_filters=80, kernel_size=3, num_repeat=3, expand_ratio=6, strides=(2, 2), se_ratio=0.25, id_skip=True, fused_conv=False, conv_type='depthwise'), BlockConfig(input_filters=80, output_filters=112, kernel_size=5, num_repeat=3, expand_ratio=6, strides=(1, 1), se_ratio=0.25, id_skip=True, fused_conv=False, conv_type='depthwise'), BlockConfig(input_filters=112, output_filters=192, kernel_size=5, num_repeat=4, expand_ratio=6, strides=(2, 2), se_ratio=0.25, id_skip=True, fused_conv=False, conv_type='depthwise'), BlockConfig(input_filters=192, output_filters=320, kernel_size=3, num_repeat=1, expand_ratio=6, strides=(1, 1), se_ratio=0.25, id_skip=True, fused_conv=False, conv_type='depthwise')), stem_base_filters=32, top_base_filters=1280, activation='simple_swish', batch_norm='default', bn_momentum=0.99, bn_epsilon=0.001, weight_decay=5e-06, drop_connect_rate=0.2, depth_divisor=8, min_depth=None, use_se=True, input_channels=3, num_classes=1000, model_name='efficientnet', rescale_input=False, data_format='channels_last', dtype='float32')\n",
      "I0208 00:02:43.728390 8042830912 ssd_efficientnet_bifpn_feature_extractor.py:161] EfficientDet EfficientNet backbone version: efficientnet-b1\n",
      "I0208 00:02:43.728467 8042830912 ssd_efficientnet_bifpn_feature_extractor.py:163] EfficientDet BiFPN num filters: 88\n",
      "I0208 00:02:43.728492 8042830912 ssd_efficientnet_bifpn_feature_extractor.py:164] EfficientDet BiFPN num iterations: 4\n",
      "I0208 00:02:43.729300 8042830912 efficientnet_model.py:147] round_filter input=32 output=32\n",
      "I0208 00:02:43.737029 8042830912 efficientnet_model.py:147] round_filter input=32 output=32\n",
      "I0208 00:02:43.737077 8042830912 efficientnet_model.py:147] round_filter input=16 output=16\n",
      "I0208 00:02:43.806355 8042830912 efficientnet_model.py:147] round_filter input=16 output=16\n",
      "I0208 00:02:43.806431 8042830912 efficientnet_model.py:147] round_filter input=24 output=24\n",
      "I0208 00:02:43.920441 8042830912 efficientnet_model.py:147] round_filter input=24 output=24\n",
      "I0208 00:02:43.920521 8042830912 efficientnet_model.py:147] round_filter input=40 output=40\n",
      "I0208 00:02:44.035948 8042830912 efficientnet_model.py:147] round_filter input=40 output=40\n",
      "I0208 00:02:44.036021 8042830912 efficientnet_model.py:147] round_filter input=80 output=80\n",
      "I0208 00:02:44.189558 8042830912 efficientnet_model.py:147] round_filter input=80 output=80\n",
      "I0208 00:02:44.189634 8042830912 efficientnet_model.py:147] round_filter input=112 output=112\n",
      "I0208 00:02:44.345925 8042830912 efficientnet_model.py:147] round_filter input=112 output=112\n",
      "I0208 00:02:44.345998 8042830912 efficientnet_model.py:147] round_filter input=192 output=192\n",
      "I0208 00:02:44.577502 8042830912 efficientnet_model.py:147] round_filter input=192 output=192\n",
      "I0208 00:02:44.577581 8042830912 efficientnet_model.py:147] round_filter input=320 output=320\n",
      "I0208 00:02:44.668135 8042830912 efficientnet_model.py:147] round_filter input=1280 output=1280\n",
      "I0208 00:02:44.687830 8042830912 efficientnet_model.py:458] Building model efficientnet with params ModelConfig(width_coefficient=1.0, depth_coefficient=1.1, resolution=240, dropout_rate=0.2, blocks=(BlockConfig(input_filters=32, output_filters=16, kernel_size=3, num_repeat=1, expand_ratio=1, strides=(1, 1), se_ratio=0.25, id_skip=True, fused_conv=False, conv_type='depthwise'), BlockConfig(input_filters=16, output_filters=24, kernel_size=3, num_repeat=2, expand_ratio=6, strides=(2, 2), se_ratio=0.25, id_skip=True, fused_conv=False, conv_type='depthwise'), BlockConfig(input_filters=24, output_filters=40, kernel_size=5, num_repeat=2, expand_ratio=6, strides=(2, 2), se_ratio=0.25, id_skip=True, fused_conv=False, conv_type='depthwise'), BlockConfig(input_filters=40, output_filters=80, kernel_size=3, num_repeat=3, expand_ratio=6, strides=(2, 2), se_ratio=0.25, id_skip=True, fused_conv=False, conv_type='depthwise'), BlockConfig(input_filters=80, output_filters=112, kernel_size=5, num_repeat=3, expand_ratio=6, strides=(1, 1), se_ratio=0.25, id_skip=True, fused_conv=False, conv_type='depthwise'), BlockConfig(input_filters=112, output_filters=192, kernel_size=5, num_repeat=4, expand_ratio=6, strides=(2, 2), se_ratio=0.25, id_skip=True, fused_conv=False, conv_type='depthwise'), BlockConfig(input_filters=192, output_filters=320, kernel_size=3, num_repeat=1, expand_ratio=6, strides=(1, 1), se_ratio=0.25, id_skip=True, fused_conv=False, conv_type='depthwise')), stem_base_filters=32, top_base_filters=1280, activation='simple_swish', batch_norm='default', bn_momentum=0.99, bn_epsilon=0.001, weight_decay=5e-06, drop_connect_rate=0.2, depth_divisor=8, min_depth=None, use_se=True, input_channels=3, num_classes=1000, model_name='efficientnet', rescale_input=False, data_format='channels_last', dtype='float32')\n",
      "I0208 00:02:44.718202 8042830912 ssd_efficientnet_bifpn_feature_extractor.py:161] EfficientDet EfficientNet backbone version: efficientnet-b2\n",
      "I0208 00:02:44.718271 8042830912 ssd_efficientnet_bifpn_feature_extractor.py:163] EfficientDet BiFPN num filters: 112\n",
      "I0208 00:02:44.718298 8042830912 ssd_efficientnet_bifpn_feature_extractor.py:164] EfficientDet BiFPN num iterations: 5\n",
      "I0208 00:02:44.719081 8042830912 efficientnet_model.py:147] round_filter input=32 output=32\n",
      "I0208 00:02:44.726797 8042830912 efficientnet_model.py:147] round_filter input=32 output=32\n",
      "I0208 00:02:44.726845 8042830912 efficientnet_model.py:147] round_filter input=16 output=16\n",
      "I0208 00:02:44.787394 8042830912 efficientnet_model.py:147] round_filter input=16 output=16\n",
      "I0208 00:02:44.787482 8042830912 efficientnet_model.py:147] round_filter input=24 output=24\n",
      "I0208 00:02:44.901870 8042830912 efficientnet_model.py:147] round_filter input=24 output=24\n",
      "I0208 00:02:44.901947 8042830912 efficientnet_model.py:147] round_filter input=40 output=48\n",
      "I0208 00:02:45.022130 8042830912 efficientnet_model.py:147] round_filter input=40 output=48\n",
      "I0208 00:02:45.022202 8042830912 efficientnet_model.py:147] round_filter input=80 output=88\n",
      "I0208 00:02:45.181639 8042830912 efficientnet_model.py:147] round_filter input=80 output=88\n",
      "I0208 00:02:45.181718 8042830912 efficientnet_model.py:147] round_filter input=112 output=120\n",
      "I0208 00:02:45.344502 8042830912 efficientnet_model.py:147] round_filter input=112 output=120\n",
      "I0208 00:02:45.344588 8042830912 efficientnet_model.py:147] round_filter input=192 output=208\n",
      "I0208 00:02:45.555107 8042830912 efficientnet_model.py:147] round_filter input=192 output=208\n",
      "I0208 00:02:45.555183 8042830912 efficientnet_model.py:147] round_filter input=320 output=352\n",
      "I0208 00:02:45.648602 8042830912 efficientnet_model.py:147] round_filter input=1280 output=1408\n",
      "I0208 00:02:45.670090 8042830912 efficientnet_model.py:458] Building model efficientnet with params ModelConfig(width_coefficient=1.1, depth_coefficient=1.2, resolution=260, dropout_rate=0.3, blocks=(BlockConfig(input_filters=32, output_filters=16, kernel_size=3, num_repeat=1, expand_ratio=1, strides=(1, 1), se_ratio=0.25, id_skip=True, fused_conv=False, conv_type='depthwise'), BlockConfig(input_filters=16, output_filters=24, kernel_size=3, num_repeat=2, expand_ratio=6, strides=(2, 2), se_ratio=0.25, id_skip=True, fused_conv=False, conv_type='depthwise'), BlockConfig(input_filters=24, output_filters=40, kernel_size=5, num_repeat=2, expand_ratio=6, strides=(2, 2), se_ratio=0.25, id_skip=True, fused_conv=False, conv_type='depthwise'), BlockConfig(input_filters=40, output_filters=80, kernel_size=3, num_repeat=3, expand_ratio=6, strides=(2, 2), se_ratio=0.25, id_skip=True, fused_conv=False, conv_type='depthwise'), BlockConfig(input_filters=80, output_filters=112, kernel_size=5, num_repeat=3, expand_ratio=6, strides=(1, 1), se_ratio=0.25, id_skip=True, fused_conv=False, conv_type='depthwise'), BlockConfig(input_filters=112, output_filters=192, kernel_size=5, num_repeat=4, expand_ratio=6, strides=(2, 2), se_ratio=0.25, id_skip=True, fused_conv=False, conv_type='depthwise'), BlockConfig(input_filters=192, output_filters=320, kernel_size=3, num_repeat=1, expand_ratio=6, strides=(1, 1), se_ratio=0.25, id_skip=True, fused_conv=False, conv_type='depthwise')), stem_base_filters=32, top_base_filters=1280, activation='simple_swish', batch_norm='default', bn_momentum=0.99, bn_epsilon=0.001, weight_decay=5e-06, drop_connect_rate=0.2, depth_divisor=8, min_depth=None, use_se=True, input_channels=3, num_classes=1000, model_name='efficientnet', rescale_input=False, data_format='channels_last', dtype='float32')\n",
      "I0208 00:02:45.701936 8042830912 ssd_efficientnet_bifpn_feature_extractor.py:161] EfficientDet EfficientNet backbone version: efficientnet-b3\n",
      "I0208 00:02:45.702009 8042830912 ssd_efficientnet_bifpn_feature_extractor.py:163] EfficientDet BiFPN num filters: 160\n",
      "I0208 00:02:45.702034 8042830912 ssd_efficientnet_bifpn_feature_extractor.py:164] EfficientDet BiFPN num iterations: 6\n",
      "I0208 00:02:45.702833 8042830912 efficientnet_model.py:147] round_filter input=32 output=40\n",
      "I0208 00:02:45.711354 8042830912 efficientnet_model.py:147] round_filter input=32 output=40\n",
      "I0208 00:02:45.711401 8042830912 efficientnet_model.py:147] round_filter input=16 output=24\n",
      "I0208 00:02:45.776487 8042830912 efficientnet_model.py:147] round_filter input=16 output=24\n",
      "I0208 00:02:45.776562 8042830912 efficientnet_model.py:147] round_filter input=24 output=32\n",
      "I0208 00:02:45.993619 8042830912 efficientnet_model.py:147] round_filter input=24 output=32\n",
      "I0208 00:02:45.993695 8042830912 efficientnet_model.py:147] round_filter input=40 output=48\n",
      "I0208 00:02:46.108604 8042830912 efficientnet_model.py:147] round_filter input=40 output=48\n",
      "I0208 00:02:46.108677 8042830912 efficientnet_model.py:147] round_filter input=80 output=96\n",
      "I0208 00:02:46.306955 8042830912 efficientnet_model.py:147] round_filter input=80 output=96\n",
      "I0208 00:02:46.307034 8042830912 efficientnet_model.py:147] round_filter input=112 output=136\n",
      "I0208 00:02:46.508689 8042830912 efficientnet_model.py:147] round_filter input=112 output=136\n",
      "I0208 00:02:46.508762 8042830912 efficientnet_model.py:147] round_filter input=192 output=232\n",
      "I0208 00:02:46.761010 8042830912 efficientnet_model.py:147] round_filter input=192 output=232\n",
      "I0208 00:02:46.761087 8042830912 efficientnet_model.py:147] round_filter input=320 output=384\n",
      "I0208 00:02:46.855668 8042830912 efficientnet_model.py:147] round_filter input=1280 output=1536\n",
      "I0208 00:02:46.879386 8042830912 efficientnet_model.py:458] Building model efficientnet with params ModelConfig(width_coefficient=1.2, depth_coefficient=1.4, resolution=300, dropout_rate=0.3, blocks=(BlockConfig(input_filters=32, output_filters=16, kernel_size=3, num_repeat=1, expand_ratio=1, strides=(1, 1), se_ratio=0.25, id_skip=True, fused_conv=False, conv_type='depthwise'), BlockConfig(input_filters=16, output_filters=24, kernel_size=3, num_repeat=2, expand_ratio=6, strides=(2, 2), se_ratio=0.25, id_skip=True, fused_conv=False, conv_type='depthwise'), BlockConfig(input_filters=24, output_filters=40, kernel_size=5, num_repeat=2, expand_ratio=6, strides=(2, 2), se_ratio=0.25, id_skip=True, fused_conv=False, conv_type='depthwise'), BlockConfig(input_filters=40, output_filters=80, kernel_size=3, num_repeat=3, expand_ratio=6, strides=(2, 2), se_ratio=0.25, id_skip=True, fused_conv=False, conv_type='depthwise'), BlockConfig(input_filters=80, output_filters=112, kernel_size=5, num_repeat=3, expand_ratio=6, strides=(1, 1), se_ratio=0.25, id_skip=True, fused_conv=False, conv_type='depthwise'), BlockConfig(input_filters=112, output_filters=192, kernel_size=5, num_repeat=4, expand_ratio=6, strides=(2, 2), se_ratio=0.25, id_skip=True, fused_conv=False, conv_type='depthwise'), BlockConfig(input_filters=192, output_filters=320, kernel_size=3, num_repeat=1, expand_ratio=6, strides=(1, 1), se_ratio=0.25, id_skip=True, fused_conv=False, conv_type='depthwise')), stem_base_filters=32, top_base_filters=1280, activation='simple_swish', batch_norm='default', bn_momentum=0.99, bn_epsilon=0.001, weight_decay=5e-06, drop_connect_rate=0.2, depth_divisor=8, min_depth=None, use_se=True, input_channels=3, num_classes=1000, model_name='efficientnet', rescale_input=False, data_format='channels_last', dtype='float32')\n",
      "I0208 00:02:46.912086 8042830912 ssd_efficientnet_bifpn_feature_extractor.py:161] EfficientDet EfficientNet backbone version: efficientnet-b4\n",
      "I0208 00:02:46.912155 8042830912 ssd_efficientnet_bifpn_feature_extractor.py:163] EfficientDet BiFPN num filters: 224\n",
      "I0208 00:02:46.912180 8042830912 ssd_efficientnet_bifpn_feature_extractor.py:164] EfficientDet BiFPN num iterations: 7\n",
      "I0208 00:02:46.912991 8042830912 efficientnet_model.py:147] round_filter input=32 output=48\n",
      "I0208 00:02:46.921577 8042830912 efficientnet_model.py:147] round_filter input=32 output=48\n",
      "I0208 00:02:46.921639 8042830912 efficientnet_model.py:147] round_filter input=16 output=24\n",
      "I0208 00:02:46.986438 8042830912 efficientnet_model.py:147] round_filter input=16 output=24\n",
      "I0208 00:02:46.986517 8042830912 efficientnet_model.py:147] round_filter input=24 output=32\n",
      "I0208 00:02:47.139164 8042830912 efficientnet_model.py:147] round_filter input=24 output=32\n",
      "I0208 00:02:47.139237 8042830912 efficientnet_model.py:147] round_filter input=40 output=56\n",
      "I0208 00:02:47.332202 8042830912 efficientnet_model.py:147] round_filter input=40 output=56\n",
      "I0208 00:02:47.332273 8042830912 efficientnet_model.py:147] round_filter input=80 output=112\n",
      "I0208 00:02:47.567463 8042830912 efficientnet_model.py:147] round_filter input=80 output=112\n",
      "I0208 00:02:47.567543 8042830912 efficientnet_model.py:147] round_filter input=112 output=160\n",
      "I0208 00:02:47.810554 8042830912 efficientnet_model.py:147] round_filter input=112 output=160\n",
      "I0208 00:02:47.810631 8042830912 efficientnet_model.py:147] round_filter input=192 output=272\n",
      "I0208 00:02:48.156912 8042830912 efficientnet_model.py:147] round_filter input=192 output=272\n",
      "I0208 00:02:48.156992 8042830912 efficientnet_model.py:147] round_filter input=320 output=448\n",
      "I0208 00:02:48.258909 8042830912 efficientnet_model.py:147] round_filter input=1280 output=1792\n",
      "I0208 00:02:48.286463 8042830912 efficientnet_model.py:458] Building model efficientnet with params ModelConfig(width_coefficient=1.4, depth_coefficient=1.8, resolution=380, dropout_rate=0.4, blocks=(BlockConfig(input_filters=32, output_filters=16, kernel_size=3, num_repeat=1, expand_ratio=1, strides=(1, 1), se_ratio=0.25, id_skip=True, fused_conv=False, conv_type='depthwise'), BlockConfig(input_filters=16, output_filters=24, kernel_size=3, num_repeat=2, expand_ratio=6, strides=(2, 2), se_ratio=0.25, id_skip=True, fused_conv=False, conv_type='depthwise'), BlockConfig(input_filters=24, output_filters=40, kernel_size=5, num_repeat=2, expand_ratio=6, strides=(2, 2), se_ratio=0.25, id_skip=True, fused_conv=False, conv_type='depthwise'), BlockConfig(input_filters=40, output_filters=80, kernel_size=3, num_repeat=3, expand_ratio=6, strides=(2, 2), se_ratio=0.25, id_skip=True, fused_conv=False, conv_type='depthwise'), BlockConfig(input_filters=80, output_filters=112, kernel_size=5, num_repeat=3, expand_ratio=6, strides=(1, 1), se_ratio=0.25, id_skip=True, fused_conv=False, conv_type='depthwise'), BlockConfig(input_filters=112, output_filters=192, kernel_size=5, num_repeat=4, expand_ratio=6, strides=(2, 2), se_ratio=0.25, id_skip=True, fused_conv=False, conv_type='depthwise'), BlockConfig(input_filters=192, output_filters=320, kernel_size=3, num_repeat=1, expand_ratio=6, strides=(1, 1), se_ratio=0.25, id_skip=True, fused_conv=False, conv_type='depthwise')), stem_base_filters=32, top_base_filters=1280, activation='simple_swish', batch_norm='default', bn_momentum=0.99, bn_epsilon=0.001, weight_decay=5e-06, drop_connect_rate=0.2, depth_divisor=8, min_depth=None, use_se=True, input_channels=3, num_classes=1000, model_name='efficientnet', rescale_input=False, data_format='channels_last', dtype='float32')\n",
      "I0208 00:02:48.326266 8042830912 ssd_efficientnet_bifpn_feature_extractor.py:161] EfficientDet EfficientNet backbone version: efficientnet-b5\n",
      "I0208 00:02:48.326341 8042830912 ssd_efficientnet_bifpn_feature_extractor.py:163] EfficientDet BiFPN num filters: 288\n",
      "I0208 00:02:48.326366 8042830912 ssd_efficientnet_bifpn_feature_extractor.py:164] EfficientDet BiFPN num iterations: 7\n",
      "I0208 00:02:48.327160 8042830912 efficientnet_model.py:147] round_filter input=32 output=48\n",
      "I0208 00:02:48.334840 8042830912 efficientnet_model.py:147] round_filter input=32 output=48\n",
      "I0208 00:02:48.334881 8042830912 efficientnet_model.py:147] round_filter input=16 output=24\n",
      "I0208 00:02:48.425381 8042830912 efficientnet_model.py:147] round_filter input=16 output=24\n",
      "I0208 00:02:48.425464 8042830912 efficientnet_model.py:147] round_filter input=24 output=40\n",
      "I0208 00:02:48.615149 8042830912 efficientnet_model.py:147] round_filter input=24 output=40\n",
      "I0208 00:02:48.615218 8042830912 efficientnet_model.py:147] round_filter input=40 output=64\n",
      "I0208 00:02:48.813103 8042830912 efficientnet_model.py:147] round_filter input=40 output=64\n",
      "I0208 00:02:48.813179 8042830912 efficientnet_model.py:147] round_filter input=80 output=128\n",
      "I0208 00:02:49.211865 8042830912 efficientnet_model.py:147] round_filter input=80 output=128\n",
      "I0208 00:02:49.211945 8042830912 efficientnet_model.py:147] round_filter input=112 output=176\n",
      "I0208 00:02:49.498073 8042830912 efficientnet_model.py:147] round_filter input=112 output=176\n",
      "I0208 00:02:49.498145 8042830912 efficientnet_model.py:147] round_filter input=192 output=304\n",
      "I0208 00:02:49.896471 8042830912 efficientnet_model.py:147] round_filter input=192 output=304\n",
      "I0208 00:02:49.896549 8042830912 efficientnet_model.py:147] round_filter input=320 output=512\n",
      "I0208 00:02:50.060708 8042830912 efficientnet_model.py:147] round_filter input=1280 output=2048\n",
      "I0208 00:02:50.088507 8042830912 efficientnet_model.py:458] Building model efficientnet with params ModelConfig(width_coefficient=1.6, depth_coefficient=2.2, resolution=456, dropout_rate=0.4, blocks=(BlockConfig(input_filters=32, output_filters=16, kernel_size=3, num_repeat=1, expand_ratio=1, strides=(1, 1), se_ratio=0.25, id_skip=True, fused_conv=False, conv_type='depthwise'), BlockConfig(input_filters=16, output_filters=24, kernel_size=3, num_repeat=2, expand_ratio=6, strides=(2, 2), se_ratio=0.25, id_skip=True, fused_conv=False, conv_type='depthwise'), BlockConfig(input_filters=24, output_filters=40, kernel_size=5, num_repeat=2, expand_ratio=6, strides=(2, 2), se_ratio=0.25, id_skip=True, fused_conv=False, conv_type='depthwise'), BlockConfig(input_filters=40, output_filters=80, kernel_size=3, num_repeat=3, expand_ratio=6, strides=(2, 2), se_ratio=0.25, id_skip=True, fused_conv=False, conv_type='depthwise'), BlockConfig(input_filters=80, output_filters=112, kernel_size=5, num_repeat=3, expand_ratio=6, strides=(1, 1), se_ratio=0.25, id_skip=True, fused_conv=False, conv_type='depthwise'), BlockConfig(input_filters=112, output_filters=192, kernel_size=5, num_repeat=4, expand_ratio=6, strides=(2, 2), se_ratio=0.25, id_skip=True, fused_conv=False, conv_type='depthwise'), BlockConfig(input_filters=192, output_filters=320, kernel_size=3, num_repeat=1, expand_ratio=6, strides=(1, 1), se_ratio=0.25, id_skip=True, fused_conv=False, conv_type='depthwise')), stem_base_filters=32, top_base_filters=1280, activation='simple_swish', batch_norm='default', bn_momentum=0.99, bn_epsilon=0.001, weight_decay=5e-06, drop_connect_rate=0.2, depth_divisor=8, min_depth=None, use_se=True, input_channels=3, num_classes=1000, model_name='efficientnet', rescale_input=False, data_format='channels_last', dtype='float32')\n",
      "I0208 00:02:50.137410 8042830912 ssd_efficientnet_bifpn_feature_extractor.py:161] EfficientDet EfficientNet backbone version: efficientnet-b6\n",
      "I0208 00:02:50.137488 8042830912 ssd_efficientnet_bifpn_feature_extractor.py:163] EfficientDet BiFPN num filters: 384\n",
      "I0208 00:02:50.137516 8042830912 ssd_efficientnet_bifpn_feature_extractor.py:164] EfficientDet BiFPN num iterations: 8\n",
      "I0208 00:02:50.138314 8042830912 efficientnet_model.py:147] round_filter input=32 output=56\n",
      "I0208 00:02:50.146934 8042830912 efficientnet_model.py:147] round_filter input=32 output=56\n",
      "I0208 00:02:50.147001 8042830912 efficientnet_model.py:147] round_filter input=16 output=32\n",
      "I0208 00:02:50.243093 8042830912 efficientnet_model.py:147] round_filter input=16 output=32\n",
      "I0208 00:02:50.243173 8042830912 efficientnet_model.py:147] round_filter input=24 output=40\n",
      "I0208 00:02:50.478650 8042830912 efficientnet_model.py:147] round_filter input=24 output=40\n",
      "I0208 00:02:50.478733 8042830912 efficientnet_model.py:147] round_filter input=40 output=72\n",
      "I0208 00:02:50.717310 8042830912 efficientnet_model.py:147] round_filter input=40 output=72\n",
      "I0208 00:02:50.717391 8042830912 efficientnet_model.py:147] round_filter input=80 output=144\n",
      "I0208 00:02:51.043960 8042830912 efficientnet_model.py:147] round_filter input=80 output=144\n",
      "I0208 00:02:51.044040 8042830912 efficientnet_model.py:147] round_filter input=112 output=200\n",
      "I0208 00:02:51.383232 8042830912 efficientnet_model.py:147] round_filter input=112 output=200\n",
      "I0208 00:02:51.383306 8042830912 efficientnet_model.py:147] round_filter input=192 output=344\n",
      "I0208 00:02:51.904347 8042830912 efficientnet_model.py:147] round_filter input=192 output=344\n",
      "I0208 00:02:51.904421 8042830912 efficientnet_model.py:147] round_filter input=320 output=576\n",
      "I0208 00:02:52.087217 8042830912 efficientnet_model.py:147] round_filter input=1280 output=2304\n",
      "I0208 00:02:52.118046 8042830912 efficientnet_model.py:458] Building model efficientnet with params ModelConfig(width_coefficient=1.8, depth_coefficient=2.6, resolution=528, dropout_rate=0.5, blocks=(BlockConfig(input_filters=32, output_filters=16, kernel_size=3, num_repeat=1, expand_ratio=1, strides=(1, 1), se_ratio=0.25, id_skip=True, fused_conv=False, conv_type='depthwise'), BlockConfig(input_filters=16, output_filters=24, kernel_size=3, num_repeat=2, expand_ratio=6, strides=(2, 2), se_ratio=0.25, id_skip=True, fused_conv=False, conv_type='depthwise'), BlockConfig(input_filters=24, output_filters=40, kernel_size=5, num_repeat=2, expand_ratio=6, strides=(2, 2), se_ratio=0.25, id_skip=True, fused_conv=False, conv_type='depthwise'), BlockConfig(input_filters=40, output_filters=80, kernel_size=3, num_repeat=3, expand_ratio=6, strides=(2, 2), se_ratio=0.25, id_skip=True, fused_conv=False, conv_type='depthwise'), BlockConfig(input_filters=80, output_filters=112, kernel_size=5, num_repeat=3, expand_ratio=6, strides=(1, 1), se_ratio=0.25, id_skip=True, fused_conv=False, conv_type='depthwise'), BlockConfig(input_filters=112, output_filters=192, kernel_size=5, num_repeat=4, expand_ratio=6, strides=(2, 2), se_ratio=0.25, id_skip=True, fused_conv=False, conv_type='depthwise'), BlockConfig(input_filters=192, output_filters=320, kernel_size=3, num_repeat=1, expand_ratio=6, strides=(1, 1), se_ratio=0.25, id_skip=True, fused_conv=False, conv_type='depthwise')), stem_base_filters=32, top_base_filters=1280, activation='simple_swish', batch_norm='default', bn_momentum=0.99, bn_epsilon=0.001, weight_decay=5e-06, drop_connect_rate=0.2, depth_divisor=8, min_depth=None, use_se=True, input_channels=3, num_classes=1000, model_name='efficientnet', rescale_input=False, data_format='channels_last', dtype='float32')\n",
      "I0208 00:02:52.173891 8042830912 ssd_efficientnet_bifpn_feature_extractor.py:161] EfficientDet EfficientNet backbone version: efficientnet-b7\n",
      "I0208 00:02:52.173967 8042830912 ssd_efficientnet_bifpn_feature_extractor.py:163] EfficientDet BiFPN num filters: 384\n",
      "I0208 00:02:52.173992 8042830912 ssd_efficientnet_bifpn_feature_extractor.py:164] EfficientDet BiFPN num iterations: 8\n",
      "I0208 00:02:52.174849 8042830912 efficientnet_model.py:147] round_filter input=32 output=64\n",
      "I0208 00:02:52.184134 8042830912 efficientnet_model.py:147] round_filter input=32 output=64\n",
      "I0208 00:02:52.184207 8042830912 efficientnet_model.py:147] round_filter input=16 output=32\n",
      "I0208 00:02:52.318148 8042830912 efficientnet_model.py:147] round_filter input=16 output=32\n",
      "I0208 00:02:52.318227 8042830912 efficientnet_model.py:147] round_filter input=24 output=48\n",
      "I0208 00:02:52.779819 8042830912 efficientnet_model.py:147] round_filter input=24 output=48\n",
      "I0208 00:02:52.779901 8042830912 efficientnet_model.py:147] round_filter input=40 output=80\n",
      "I0208 00:02:53.055433 8042830912 efficientnet_model.py:147] round_filter input=40 output=80\n",
      "I0208 00:02:53.055503 8042830912 efficientnet_model.py:147] round_filter input=80 output=160\n",
      "I0208 00:02:53.502682 8042830912 efficientnet_model.py:147] round_filter input=80 output=160\n",
      "I0208 00:02:53.502762 8042830912 efficientnet_model.py:147] round_filter input=112 output=224\n",
      "I0208 00:02:53.965342 8042830912 efficientnet_model.py:147] round_filter input=112 output=224\n",
      "I0208 00:02:53.965419 8042830912 efficientnet_model.py:147] round_filter input=192 output=384\n",
      "I0208 00:02:54.588197 8042830912 efficientnet_model.py:147] round_filter input=192 output=384\n",
      "I0208 00:02:54.588277 8042830912 efficientnet_model.py:147] round_filter input=320 output=640\n",
      "I0208 00:02:54.853329 8042830912 efficientnet_model.py:147] round_filter input=1280 output=2560\n",
      "I0208 00:02:54.884112 8042830912 efficientnet_model.py:458] Building model efficientnet with params ModelConfig(width_coefficient=2.0, depth_coefficient=3.1, resolution=600, dropout_rate=0.5, blocks=(BlockConfig(input_filters=32, output_filters=16, kernel_size=3, num_repeat=1, expand_ratio=1, strides=(1, 1), se_ratio=0.25, id_skip=True, fused_conv=False, conv_type='depthwise'), BlockConfig(input_filters=16, output_filters=24, kernel_size=3, num_repeat=2, expand_ratio=6, strides=(2, 2), se_ratio=0.25, id_skip=True, fused_conv=False, conv_type='depthwise'), BlockConfig(input_filters=24, output_filters=40, kernel_size=5, num_repeat=2, expand_ratio=6, strides=(2, 2), se_ratio=0.25, id_skip=True, fused_conv=False, conv_type='depthwise'), BlockConfig(input_filters=40, output_filters=80, kernel_size=3, num_repeat=3, expand_ratio=6, strides=(2, 2), se_ratio=0.25, id_skip=True, fused_conv=False, conv_type='depthwise'), BlockConfig(input_filters=80, output_filters=112, kernel_size=5, num_repeat=3, expand_ratio=6, strides=(1, 1), se_ratio=0.25, id_skip=True, fused_conv=False, conv_type='depthwise'), BlockConfig(input_filters=112, output_filters=192, kernel_size=5, num_repeat=4, expand_ratio=6, strides=(2, 2), se_ratio=0.25, id_skip=True, fused_conv=False, conv_type='depthwise'), BlockConfig(input_filters=192, output_filters=320, kernel_size=3, num_repeat=1, expand_ratio=6, strides=(1, 1), se_ratio=0.25, id_skip=True, fused_conv=False, conv_type='depthwise')), stem_base_filters=32, top_base_filters=1280, activation='simple_swish', batch_norm='default', bn_momentum=0.99, bn_epsilon=0.001, weight_decay=5e-06, drop_connect_rate=0.2, depth_divisor=8, min_depth=None, use_se=True, input_channels=3, num_classes=1000, model_name='efficientnet', rescale_input=False, data_format='channels_last', dtype='float32')\n",
      "INFO:tensorflow:time(__main__.ModelBuilderTF2Test.test_create_ssd_models_from_config): 12.16s\n",
      "I0208 00:02:54.950340 8042830912 test_util.py:2462] time(__main__.ModelBuilderTF2Test.test_create_ssd_models_from_config): 12.16s\n",
      "[       OK ] ModelBuilderTF2Test.test_create_ssd_models_from_config\n",
      "[ RUN      ] ModelBuilderTF2Test.test_invalid_faster_rcnn_batchnorm_update\n",
      "INFO:tensorflow:time(__main__.ModelBuilderTF2Test.test_invalid_faster_rcnn_batchnorm_update): 0.0s\n",
      "I0208 00:02:54.959568 8042830912 test_util.py:2462] time(__main__.ModelBuilderTF2Test.test_invalid_faster_rcnn_batchnorm_update): 0.0s\n",
      "[       OK ] ModelBuilderTF2Test.test_invalid_faster_rcnn_batchnorm_update\n",
      "[ RUN      ] ModelBuilderTF2Test.test_invalid_first_stage_nms_iou_threshold\n",
      "INFO:tensorflow:time(__main__.ModelBuilderTF2Test.test_invalid_first_stage_nms_iou_threshold): 0.0s\n",
      "I0208 00:02:54.960465 8042830912 test_util.py:2462] time(__main__.ModelBuilderTF2Test.test_invalid_first_stage_nms_iou_threshold): 0.0s\n",
      "[       OK ] ModelBuilderTF2Test.test_invalid_first_stage_nms_iou_threshold\n",
      "[ RUN      ] ModelBuilderTF2Test.test_invalid_model_config_proto\n",
      "INFO:tensorflow:time(__main__.ModelBuilderTF2Test.test_invalid_model_config_proto): 0.0s\n",
      "I0208 00:02:54.960659 8042830912 test_util.py:2462] time(__main__.ModelBuilderTF2Test.test_invalid_model_config_proto): 0.0s\n",
      "[       OK ] ModelBuilderTF2Test.test_invalid_model_config_proto\n",
      "[ RUN      ] ModelBuilderTF2Test.test_invalid_second_stage_batch_size\n",
      "INFO:tensorflow:time(__main__.ModelBuilderTF2Test.test_invalid_second_stage_batch_size): 0.0s\n",
      "I0208 00:02:54.961530 8042830912 test_util.py:2462] time(__main__.ModelBuilderTF2Test.test_invalid_second_stage_batch_size): 0.0s\n",
      "[       OK ] ModelBuilderTF2Test.test_invalid_second_stage_batch_size\n",
      "[ RUN      ] ModelBuilderTF2Test.test_session\n",
      "[  SKIPPED ] ModelBuilderTF2Test.test_session\n",
      "[ RUN      ] ModelBuilderTF2Test.test_unknown_faster_rcnn_feature_extractor\n",
      "INFO:tensorflow:time(__main__.ModelBuilderTF2Test.test_unknown_faster_rcnn_feature_extractor): 0.0s\n",
      "I0208 00:02:54.962260 8042830912 test_util.py:2462] time(__main__.ModelBuilderTF2Test.test_unknown_faster_rcnn_feature_extractor): 0.0s\n",
      "[       OK ] ModelBuilderTF2Test.test_unknown_faster_rcnn_feature_extractor\n",
      "[ RUN      ] ModelBuilderTF2Test.test_unknown_meta_architecture\n",
      "INFO:tensorflow:time(__main__.ModelBuilderTF2Test.test_unknown_meta_architecture): 0.0s\n",
      "I0208 00:02:54.962430 8042830912 test_util.py:2462] time(__main__.ModelBuilderTF2Test.test_unknown_meta_architecture): 0.0s\n",
      "[       OK ] ModelBuilderTF2Test.test_unknown_meta_architecture\n",
      "[ RUN      ] ModelBuilderTF2Test.test_unknown_ssd_feature_extractor\n",
      "INFO:tensorflow:time(__main__.ModelBuilderTF2Test.test_unknown_ssd_feature_extractor): 0.0s\n",
      "I0208 00:02:54.962952 8042830912 test_util.py:2462] time(__main__.ModelBuilderTF2Test.test_unknown_ssd_feature_extractor): 0.0s\n",
      "[       OK ] ModelBuilderTF2Test.test_unknown_ssd_feature_extractor\n",
      "----------------------------------------------------------------------\n",
      "Ran 24 tests in 14.315s\n",
      "\n",
      "OK (skipped=1)\n"
     ]
    }
   ],
   "source": [
    "VERIFICATION_SCRIPT = os.path.join(paths['APIMODEL_PATH'], 'research', 'object_detection', 'builders', 'model_builder_tf2_test.py')\n",
    "# Verify Installation\n",
    "!python {VERIFICATION_SCRIPT}"
   ]
  },
  {
   "cell_type": "code",
   "execution_count": null,
   "id": "098879fc-3a78-4ef9-90d7-b824528ed2f6",
   "metadata": {},
   "outputs": [],
   "source": [
    "#!pip install tensorflow --upgrade"
   ]
  },
  {
   "cell_type": "code",
   "execution_count": null,
   "id": "115166d9-7838-45cc-a628-428f29bd5627",
   "metadata": {},
   "outputs": [],
   "source": [
    "#!pip uninstall protobuf matplotlib -y\n",
    "#!pip install protobuf matplotlib==3.2"
   ]
  },
  {
   "cell_type": "code",
   "execution_count": 11,
   "id": "9c43d168-b721-462b-bd05-51a263b63f0c",
   "metadata": {},
   "outputs": [],
   "source": [
    "import object_detection"
   ]
  },
  {
   "cell_type": "code",
   "execution_count": 12,
   "id": "826584d4-a587-4caf-94fc-f65a4d37c48e",
   "metadata": {},
   "outputs": [
    {
     "name": "stdout",
     "output_type": "stream",
     "text": [
      "\u001b[34m==>\u001b[0m \u001b[1mDownloading https://formulae.brew.sh/api/formula.jws.json\u001b[0m\n",
      "######################################################################### 100.0%\n",
      "\u001b[34m==>\u001b[0m \u001b[1mDownloading https://formulae.brew.sh/api/cask.jws.json\u001b[0m\n",
      "######################################################################### 100.0%\n",
      "\u001b[33mWarning:\u001b[0m wget 1.21.4 is already installed and up-to-date.\n",
      "To reinstall 1.21.4, run:\n",
      "  brew reinstall wget\n"
     ]
    }
   ],
   "source": [
    "!brew install wget"
   ]
  },
  {
   "cell_type": "code",
   "execution_count": 13,
   "id": "3c9dd7b7-5fa8-4e46-86a3-50af002fe02a",
   "metadata": {},
   "outputs": [
    {
     "name": "stdout",
     "output_type": "stream",
     "text": [
      "--2024-02-08 00:03:03--  http://download.tensorflow.org/models/object_detection/tf2/20200711/ssd_mobilenet_v2_fpnlite_320x320_coco17_tpu-8.tar.gz\n",
      "Resolving download.tensorflow.org (download.tensorflow.org)... 142.251.40.59, 172.217.12.155, 142.250.72.155, ...\n",
      "Connecting to download.tensorflow.org (download.tensorflow.org)|142.251.40.59|:80... connected.\n",
      "HTTP request sent, awaiting response... 200 OK\n",
      "Length: 20515344 (20M) [application/x-tar]\n",
      "Saving to: ‘ssd_mobilenet_v2_fpnlite_320x320_coco17_tpu-8.tar.gz’\n",
      "\n",
      "ssd_mobilenet_v2_fp 100%[===================>]  19.56M  26.8MB/s    in 0.7s    \n",
      "\n",
      "2024-02-08 00:03:04 (26.8 MB/s) - ‘ssd_mobilenet_v2_fpnlite_320x320_coco17_tpu-8.tar.gz’ saved [20515344/20515344]\n",
      "\n",
      "x ssd_mobilenet_v2_fpnlite_320x320_coco17_tpu-8/\n",
      "x ssd_mobilenet_v2_fpnlite_320x320_coco17_tpu-8/checkpoint/\n",
      "x ssd_mobilenet_v2_fpnlite_320x320_coco17_tpu-8/checkpoint/ckpt-0.data-00000-of-00001\n",
      "x ssd_mobilenet_v2_fpnlite_320x320_coco17_tpu-8/checkpoint/checkpoint\n",
      "x ssd_mobilenet_v2_fpnlite_320x320_coco17_tpu-8/checkpoint/ckpt-0.index\n",
      "x ssd_mobilenet_v2_fpnlite_320x320_coco17_tpu-8/pipeline.config\n",
      "x ssd_mobilenet_v2_fpnlite_320x320_coco17_tpu-8/saved_model/\n",
      "x ssd_mobilenet_v2_fpnlite_320x320_coco17_tpu-8/saved_model/saved_model.pb\n",
      "x ssd_mobilenet_v2_fpnlite_320x320_coco17_tpu-8/saved_model/variables/\n",
      "x ssd_mobilenet_v2_fpnlite_320x320_coco17_tpu-8/saved_model/variables/variables.data-00000-of-00001\n",
      "x ssd_mobilenet_v2_fpnlite_320x320_coco17_tpu-8/saved_model/variables/variables.index\n"
     ]
    }
   ],
   "source": [
    "if os.name =='posix':\n",
    "    !wget {PRETRAINED_MODEL_URL}\n",
    "    !mv {PRETRAINED_MODEL_NAME+'.tar.gz'} {paths['PRETRAINED_MODEL_PATH']}\n",
    "    !cd {paths['PRETRAINED_MODEL_PATH']} && tar -zxvf {PRETRAINED_MODEL_NAME+'.tar.gz'}\n",
    "if os.name == 'nt':\n",
    "    wget.download(PRETRAINED_MODEL_URL)\n",
    "    !move {PRETRAINED_MODEL_NAME+'.tar.gz'} {paths['PRETRAINED_MODEL_PATH']}\n",
    "    !cd {paths['PRETRAINED_MODEL_PATH']} && tar -zxvf {PRETRAINED_MODEL_NAME+'.tar.gz'}"
   ]
  },
  {
   "cell_type": "markdown",
   "id": "af91f80e-94e0-4c03-80ec-bada0c1aaecc",
   "metadata": {},
   "source": [
    "# 2. Create Label Map"
   ]
  },
  {
   "cell_type": "code",
   "execution_count": 14,
   "id": "1cf907bb-7f18-462b-b363-cbaa876cb9b7",
   "metadata": {},
   "outputs": [],
   "source": [
    "labels = [{'name':'ThumbsUp', 'id':1}]\n",
    "\n",
    "with open(files['LABELMAP'], 'w') as f:\n",
    "    for label in labels:\n",
    "        f.write('item { \\n')\n",
    "        f.write('\\tname:\\'{}\\'\\n'.format(label['name']))\n",
    "        f.write('\\tid:{}\\n'.format(label['id']))\n",
    "        f.write('}\\n')"
   ]
  },
  {
   "cell_type": "markdown",
   "id": "7596efd7-69de-46a6-85f7-ff32a4376aab",
   "metadata": {},
   "source": [
    "# 3. Create TF records"
   ]
  },
  {
   "cell_type": "code",
   "execution_count": null,
   "id": "375be2a3-d83b-40ff-98bd-cfa0278f50a5",
   "metadata": {},
   "outputs": [],
   "source": [
    "# OPTIONAL IF RUNNING ON COLAB\n",
    "#ARCHIVE_FILES = os.path.join(paths['IMAGE_PATH'], 'archive.tar.gz')\n",
    "#if os.path.exists(ARCHIVE_FILES):\n",
    "#  !tar -zxvf {ARCHIVE_FILES}"
   ]
  },
  {
   "cell_type": "code",
   "execution_count": 15,
   "id": "196a9021-d3fc-45dc-97a6-faba1ac56264",
   "metadata": {},
   "outputs": [],
   "source": [
    "if not os.path.exists(files['TF_RECORD_SCRIPT']):\n",
    "    !git clone https://github.com/nicknochnack/GenerateTFRecord {paths['SCRIPTS_PATH']}"
   ]
  },
  {
   "cell_type": "code",
   "execution_count": 16,
   "id": "f6a076e1-8201-40cc-8b08-87ebde0fe0e1",
   "metadata": {},
   "outputs": [
    {
     "name": "stdout",
     "output_type": "stream",
     "text": [
      "Successfully created the TFRecord file: Tensorflow/workspace/annotations/train.record\n",
      "Successfully created the TFRecord file: Tensorflow/workspace/annotations/test.record\n"
     ]
    }
   ],
   "source": [
    "!python {files['TF_RECORD_SCRIPT']} -x {os.path.join(paths['IMAGE_PATH'], 'train')} -l {files['LABELMAP']} -o {os.path.join(paths['ANNOTATION_PATH'], 'train.record')} \n",
    "!python {files['TF_RECORD_SCRIPT']} -x {os.path.join(paths['IMAGE_PATH'], 'test')} -l {files['LABELMAP']} -o {os.path.join(paths['ANNOTATION_PATH'], 'test.record')} "
   ]
  },
  {
   "cell_type": "markdown",
   "id": "638f3821-e692-4e98-af78-678262ce6112",
   "metadata": {},
   "source": [
    "# 4. Copy Model Config to Training Folder"
   ]
  },
  {
   "cell_type": "code",
   "execution_count": 17,
   "id": "46ef3115-1dcd-411f-b076-7bca4a46b8c5",
   "metadata": {},
   "outputs": [],
   "source": [
    "if os.name =='posix':\n",
    "    !cp {os.path.join(paths['PRETRAINED_MODEL_PATH'], PRETRAINED_MODEL_NAME, 'pipeline.config')} {os.path.join(paths['CHECKPOINT_PATH'])}\n",
    "if os.name == 'nt':\n",
    "    !copy {os.path.join(paths['PRETRAINED_MODEL_PATH'], PRETRAINED_MODEL_NAME, 'pipeline.config')} {os.path.join(paths['CHECKPOINT_PATH'])}"
   ]
  },
  {
   "cell_type": "markdown",
   "id": "94902243-92f3-479d-9e55-653bb6103c7e",
   "metadata": {},
   "source": [
    "# 5. Update Config for Transfer Learning"
   ]
  },
  {
   "cell_type": "code",
   "execution_count": 18,
   "id": "ed20e451-fbdb-4fc9-8af7-b5459c14b932",
   "metadata": {},
   "outputs": [],
   "source": [
    "import tensorflow as tf\n",
    "from object_detection.utils import config_util\n",
    "from object_detection.protos import pipeline_pb2\n",
    "from google.protobuf import text_format"
   ]
  },
  {
   "cell_type": "code",
   "execution_count": 19,
   "id": "567bd2f8-98df-40e5-8857-2045c4156344",
   "metadata": {},
   "outputs": [],
   "source": [
    "config = config_util.get_configs_from_pipeline_file(files['PIPELINE_CONFIG'])"
   ]
  },
  {
   "cell_type": "code",
   "execution_count": 20,
   "id": "0af1babd-e704-4ced-be90-c3b18e7b2d97",
   "metadata": {},
   "outputs": [
    {
     "data": {
      "text/plain": [
       "{'model': ssd {\n",
       "   num_classes: 90\n",
       "   image_resizer {\n",
       "     fixed_shape_resizer {\n",
       "       height: 320\n",
       "       width: 320\n",
       "     }\n",
       "   }\n",
       "   feature_extractor {\n",
       "     type: \"ssd_mobilenet_v2_fpn_keras\"\n",
       "     depth_multiplier: 1.0\n",
       "     min_depth: 16\n",
       "     conv_hyperparams {\n",
       "       regularizer {\n",
       "         l2_regularizer {\n",
       "           weight: 4e-05\n",
       "         }\n",
       "       }\n",
       "       initializer {\n",
       "         random_normal_initializer {\n",
       "           mean: 0.0\n",
       "           stddev: 0.01\n",
       "         }\n",
       "       }\n",
       "       activation: RELU_6\n",
       "       batch_norm {\n",
       "         decay: 0.997\n",
       "         scale: true\n",
       "         epsilon: 0.001\n",
       "       }\n",
       "     }\n",
       "     use_depthwise: true\n",
       "     override_base_feature_extractor_hyperparams: true\n",
       "     fpn {\n",
       "       min_level: 3\n",
       "       max_level: 7\n",
       "       additional_layer_depth: 128\n",
       "     }\n",
       "   }\n",
       "   box_coder {\n",
       "     faster_rcnn_box_coder {\n",
       "       y_scale: 10.0\n",
       "       x_scale: 10.0\n",
       "       height_scale: 5.0\n",
       "       width_scale: 5.0\n",
       "     }\n",
       "   }\n",
       "   matcher {\n",
       "     argmax_matcher {\n",
       "       matched_threshold: 0.5\n",
       "       unmatched_threshold: 0.5\n",
       "       ignore_thresholds: false\n",
       "       negatives_lower_than_unmatched: true\n",
       "       force_match_for_each_row: true\n",
       "       use_matmul_gather: true\n",
       "     }\n",
       "   }\n",
       "   similarity_calculator {\n",
       "     iou_similarity {\n",
       "     }\n",
       "   }\n",
       "   box_predictor {\n",
       "     weight_shared_convolutional_box_predictor {\n",
       "       conv_hyperparams {\n",
       "         regularizer {\n",
       "           l2_regularizer {\n",
       "             weight: 4e-05\n",
       "           }\n",
       "         }\n",
       "         initializer {\n",
       "           random_normal_initializer {\n",
       "             mean: 0.0\n",
       "             stddev: 0.01\n",
       "           }\n",
       "         }\n",
       "         activation: RELU_6\n",
       "         batch_norm {\n",
       "           decay: 0.997\n",
       "           scale: true\n",
       "           epsilon: 0.001\n",
       "         }\n",
       "       }\n",
       "       depth: 128\n",
       "       num_layers_before_predictor: 4\n",
       "       kernel_size: 3\n",
       "       class_prediction_bias_init: -4.6\n",
       "       share_prediction_tower: true\n",
       "       use_depthwise: true\n",
       "     }\n",
       "   }\n",
       "   anchor_generator {\n",
       "     multiscale_anchor_generator {\n",
       "       min_level: 3\n",
       "       max_level: 7\n",
       "       anchor_scale: 4.0\n",
       "       aspect_ratios: 1.0\n",
       "       aspect_ratios: 2.0\n",
       "       aspect_ratios: 0.5\n",
       "       scales_per_octave: 2\n",
       "     }\n",
       "   }\n",
       "   post_processing {\n",
       "     batch_non_max_suppression {\n",
       "       score_threshold: 1e-08\n",
       "       iou_threshold: 0.6\n",
       "       max_detections_per_class: 100\n",
       "       max_total_detections: 100\n",
       "       use_static_shapes: false\n",
       "     }\n",
       "     score_converter: SIGMOID\n",
       "   }\n",
       "   normalize_loss_by_num_matches: true\n",
       "   loss {\n",
       "     localization_loss {\n",
       "       weighted_smooth_l1 {\n",
       "       }\n",
       "     }\n",
       "     classification_loss {\n",
       "       weighted_sigmoid_focal {\n",
       "         gamma: 2.0\n",
       "         alpha: 0.25\n",
       "       }\n",
       "     }\n",
       "     classification_weight: 1.0\n",
       "     localization_weight: 1.0\n",
       "   }\n",
       "   encode_background_as_zeros: true\n",
       "   normalize_loc_loss_by_codesize: true\n",
       "   inplace_batchnorm_update: true\n",
       "   freeze_batchnorm: false\n",
       " },\n",
       " 'train_config': batch_size: 128\n",
       " data_augmentation_options {\n",
       "   random_horizontal_flip {\n",
       "   }\n",
       " }\n",
       " data_augmentation_options {\n",
       "   random_crop_image {\n",
       "     min_object_covered: 0.0\n",
       "     min_aspect_ratio: 0.75\n",
       "     max_aspect_ratio: 3.0\n",
       "     min_area: 0.75\n",
       "     max_area: 1.0\n",
       "     overlap_thresh: 0.0\n",
       "   }\n",
       " }\n",
       " sync_replicas: true\n",
       " optimizer {\n",
       "   momentum_optimizer {\n",
       "     learning_rate {\n",
       "       cosine_decay_learning_rate {\n",
       "         learning_rate_base: 0.08\n",
       "         total_steps: 50000\n",
       "         warmup_learning_rate: 0.026666\n",
       "         warmup_steps: 1000\n",
       "       }\n",
       "     }\n",
       "     momentum_optimizer_value: 0.9\n",
       "   }\n",
       "   use_moving_average: false\n",
       " }\n",
       " fine_tune_checkpoint: \"PATH_TO_BE_CONFIGURED\"\n",
       " num_steps: 50000\n",
       " startup_delay_steps: 0.0\n",
       " replicas_to_aggregate: 8\n",
       " max_number_of_boxes: 100\n",
       " unpad_groundtruth_tensors: false\n",
       " fine_tune_checkpoint_type: \"classification\"\n",
       " fine_tune_checkpoint_version: V2,\n",
       " 'train_input_config': label_map_path: \"PATH_TO_BE_CONFIGURED\"\n",
       " tf_record_input_reader {\n",
       "   input_path: \"PATH_TO_BE_CONFIGURED\"\n",
       " },\n",
       " 'eval_config': metrics_set: \"coco_detection_metrics\"\n",
       " use_moving_averages: false,\n",
       " 'eval_input_configs': [label_map_path: \"PATH_TO_BE_CONFIGURED\"\n",
       " shuffle: false\n",
       " num_epochs: 1\n",
       " tf_record_input_reader {\n",
       "   input_path: \"PATH_TO_BE_CONFIGURED\"\n",
       " }\n",
       " ],\n",
       " 'eval_input_config': label_map_path: \"PATH_TO_BE_CONFIGURED\"\n",
       " shuffle: false\n",
       " num_epochs: 1\n",
       " tf_record_input_reader {\n",
       "   input_path: \"PATH_TO_BE_CONFIGURED\"\n",
       " }}"
      ]
     },
     "execution_count": 20,
     "metadata": {},
     "output_type": "execute_result"
    }
   ],
   "source": [
    "config"
   ]
  },
  {
   "cell_type": "code",
   "execution_count": 21,
   "id": "f84130d0-cb54-4797-a03f-66b8ebb7fd97",
   "metadata": {},
   "outputs": [],
   "source": [
    "pipeline_config = pipeline_pb2.TrainEvalPipelineConfig()\n",
    "with tf.io.gfile.GFile(files['PIPELINE_CONFIG'], \"r\") as f:                                                                                                                                                                                                                     \n",
    "    proto_str = f.read()                                                                                                                                                                                                                                          \n",
    "    text_format.Merge(proto_str, pipeline_config)  "
   ]
  },
  {
   "cell_type": "code",
   "execution_count": 22,
   "id": "67fa139f-1a98-4b3d-bfe3-763cb3d667c9",
   "metadata": {},
   "outputs": [],
   "source": [
    "pipeline_config.model.ssd.num_classes = len(labels)\n",
    "pipeline_config.train_config.batch_size = 4\n",
    "pipeline_config.train_config.fine_tune_checkpoint = os.path.join(paths['PRETRAINED_MODEL_PATH'], PRETRAINED_MODEL_NAME, 'checkpoint', 'ckpt-0')\n",
    "pipeline_config.train_config.fine_tune_checkpoint_type = \"detection\"\n",
    "pipeline_config.train_input_reader.label_map_path= files['LABELMAP']\n",
    "pipeline_config.train_input_reader.tf_record_input_reader.input_path[:] = [os.path.join(paths['ANNOTATION_PATH'], 'train.record')]\n",
    "pipeline_config.eval_input_reader[0].label_map_path = files['LABELMAP']\n",
    "pipeline_config.eval_input_reader[0].tf_record_input_reader.input_path[:] = [os.path.join(paths['ANNOTATION_PATH'], 'test.record')]"
   ]
  },
  {
   "cell_type": "code",
   "execution_count": 23,
   "id": "eb5f751a-fe5e-4b52-862c-c271177f7f71",
   "metadata": {},
   "outputs": [],
   "source": [
    "config_text = text_format.MessageToString(pipeline_config)                                                                                                                                                                                                        \n",
    "with tf.io.gfile.GFile(files['PIPELINE_CONFIG'], \"wb\") as f:                                                                                                                                                                                                                     \n",
    "    f.write(config_text)   "
   ]
  },
  {
   "cell_type": "markdown",
   "id": "4b590e96-3def-4d09-b6d8-812f3e288616",
   "metadata": {},
   "source": [
    "# 6. Train the model"
   ]
  },
  {
   "cell_type": "code",
   "execution_count": null,
   "id": "027ec32b-7284-4a1a-abb6-17e73612c57e",
   "metadata": {},
   "outputs": [],
   "source": [
    "TRAINING_SCRIPT = os.path.join(paths['APIMODEL_PATH'], 'research', 'object_detection', 'model_main_tf2.py')"
   ]
  },
  {
   "cell_type": "code",
   "execution_count": null,
   "id": "eea0df0c-7baf-4587-abff-4541afcf1f0e",
   "metadata": {},
   "outputs": [],
   "source": [
    "command = \"python {} --model_dir={} --pipeline_config_path={} --num_train_steps=2000\".format(TRAINING_SCRIPT, paths['CHECKPOINT_PATH'],files['PIPELINE_CONFIG'])"
   ]
  },
  {
   "cell_type": "code",
   "execution_count": null,
   "id": "156a64b9-6954-46d5-a7cb-7ca0fc558bfc",
   "metadata": {},
   "outputs": [],
   "source": [
    "print(command)"
   ]
  },
  {
   "cell_type": "code",
   "execution_count": null,
   "id": "7a8d079f-4e27-4999-ac72-a4c8cc110cee",
   "metadata": {},
   "outputs": [],
   "source": [
    "!{command}"
   ]
  },
  {
   "cell_type": "markdown",
   "id": "addc5bed-0965-4f4a-b8d8-33d58748a157",
   "metadata": {},
   "source": [
    "# 7. Evaluate the Model"
   ]
  },
  {
   "cell_type": "code",
   "execution_count": null,
   "id": "684eb73e-c66d-4c25-af3f-d0f6f62ced2d",
   "metadata": {},
   "outputs": [],
   "source": [
    "command = \"python {} --model_dir={} --pipeline_config_path={} --checkpoint_dir={}\".format(TRAINING_SCRIPT, paths['CHECKPOINT_PATH'],files['PIPELINE_CONFIG'], paths['CHECKPOINT_PATH'])"
   ]
  },
  {
   "cell_type": "code",
   "execution_count": null,
   "id": "5d6a4955-c07c-45b8-a96f-f9cfe9f25388",
   "metadata": {},
   "outputs": [],
   "source": [
    "print(command)"
   ]
  },
  {
   "cell_type": "code",
   "execution_count": null,
   "id": "fd783e9d-0946-4b19-bbde-59829304e33e",
   "metadata": {},
   "outputs": [],
   "source": [
    "#!{command}"
   ]
  },
  {
   "cell_type": "markdown",
   "id": "b562bf7d-fa05-4da5-862c-89f13a21b3af",
   "metadata": {},
   "source": [
    "# 8. Load Train Model From Checkpoint"
   ]
  },
  {
   "cell_type": "code",
   "execution_count": 24,
   "id": "617103be-f599-4fdf-adcb-a508091c1bc7",
   "metadata": {},
   "outputs": [],
   "source": [
    "import os\n",
    "import tensorflow as tf\n",
    "from object_detection.utils import label_map_util\n",
    "from object_detection.utils import visualization_utils as viz_utils\n",
    "from object_detection.builders import model_builder\n",
    "from object_detection.utils import config_util"
   ]
  },
  {
   "cell_type": "code",
   "execution_count": 25,
   "id": "5210d52c-29d2-4838-b36a-c164b33ac7dc",
   "metadata": {},
   "outputs": [],
   "source": [
    "# Load pipeline config and build a detection model\n",
    "configs = config_util.get_configs_from_pipeline_file(files['PIPELINE_CONFIG'])\n",
    "detection_model = model_builder.build(model_config=configs['model'], is_training=False)\n",
    "\n",
    "# Restore checkpoint\n",
    "ckpt = tf.compat.v2.train.Checkpoint(model=detection_model)\n",
    "ckpt.restore(os.path.join(paths['CHECKPOINT_PATH'], 'ckpt-3')).expect_partial()\n",
    "\n",
    "@tf.function\n",
    "def detect_fn(image):\n",
    "    image, shapes = detection_model.preprocess(image)\n",
    "    prediction_dict = detection_model.predict(image, shapes)\n",
    "    detections = detection_model.postprocess(prediction_dict, shapes)\n",
    "    return detections"
   ]
  },
  {
   "cell_type": "markdown",
   "id": "0a1b88c7-9a23-4378-8d41-628d06704a9a",
   "metadata": {},
   "source": [
    "# 9. Detect from an Image"
   ]
  },
  {
   "cell_type": "code",
   "execution_count": null,
   "id": "f8dad1ac-125b-4203-8ab3-c2ba106d579b",
   "metadata": {},
   "outputs": [],
   "source": [
    "!pip install --upgrade matplotlib"
   ]
  },
  {
   "cell_type": "code",
   "execution_count": 27,
   "id": "2a47a7a2-dd74-4042-a2c1-53d97b97e5a8",
   "metadata": {},
   "outputs": [],
   "source": [
    "import cv2 \n",
    "import numpy as np\n",
    "from matplotlib import pyplot as plt\n",
    "%matplotlib inline"
   ]
  },
  {
   "cell_type": "code",
   "execution_count": null,
   "id": "cf8d4c43-b5a7-4066-ae01-8bd9673808c4",
   "metadata": {},
   "outputs": [],
   "source": [
    "category_index = label_map_util.create_category_index_from_labelmap(files['LABELMAP'])"
   ]
  },
  {
   "cell_type": "code",
   "execution_count": null,
   "id": "b18d88d9-bafc-4334-bb45-3d29952fa897",
   "metadata": {},
   "outputs": [],
   "source": [
    "IMAGE_PATH = os.path.join(paths['IMAGE_PATH'], 'test', 'thumbsup.f3615840-c525-11ee-a90c-1a5dce6a2a09.jpg')"
   ]
  },
  {
   "cell_type": "code",
   "execution_count": null,
   "id": "f0ea2109-1929-46ed-a664-b549f6ddf1c0",
   "metadata": {},
   "outputs": [],
   "source": [
    "img = cv2.imread(IMAGE_PATH)\n",
    "image_np = np.array(img)\n",
    "\n",
    "input_tensor = tf.convert_to_tensor(np.expand_dims(image_np, 0), dtype=tf.float32)\n",
    "detections = detect_fn(input_tensor)\n",
    "\n",
    "num_detections = int(detections.pop('num_detections'))\n",
    "detections = {key: value[0, :num_detections].numpy()\n",
    "              for key, value in detections.items()}\n",
    "detections['num_detections'] = num_detections\n",
    "\n",
    "# detection_classes should be ints.\n",
    "detections['detection_classes'] = detections['detection_classes'].astype(np.int64)\n",
    "\n",
    "label_id_offset = 1\n",
    "image_np_with_detections = image_np.copy()\n",
    "\n",
    "viz_utils.visualize_boxes_and_labels_on_image_array(\n",
    "            image_np_with_detections,\n",
    "            detections['detection_boxes'],\n",
    "            detections['detection_classes']+label_id_offset,\n",
    "            detections['detection_scores'],\n",
    "            category_index,\n",
    "            use_normalized_coordinates=True,\n",
    "            max_boxes_to_draw=5,\n",
    "            min_score_thresh=.8,\n",
    "            agnostic_mode=False)\n",
    "\n",
    "plt.imshow(cv2.cvtColor(image_np_with_detections, cv2.COLOR_BGR2RGB))\n",
    "plt.show()"
   ]
  },
  {
   "cell_type": "markdown",
   "id": "65d0796b-ef54-4deb-b769-fd13b50dc8f2",
   "metadata": {},
   "source": [
    "# 10. Real Time Detections from your Webcam"
   ]
  },
  {
   "cell_type": "code",
   "execution_count": null,
   "id": "8a3c097d-3ea8-45e2-8ff0-58fa19e782c8",
   "metadata": {},
   "outputs": [],
   "source": [
    "#!pip uninstall opencv-python-headless -y"
   ]
  },
  {
   "cell_type": "code",
   "execution_count": 28,
   "id": "7938843d-2ed0-43f9-9aae-6fba75f3af36",
   "metadata": {},
   "outputs": [
    {
     "name": "stderr",
     "output_type": "stream",
     "text": [
      "2024-02-08 00:03:42.551 python3[30280:1760587] WARNING: AVCaptureDeviceTypeExternal is deprecated for Continuity Cameras. Please use AVCaptureDeviceTypeContinuityCamera and add NSCameraUseContinuityCameraDeviceType to your Info.plist.\n"
     ]
    },
    {
     "ename": "NameError",
     "evalue": "name 'category_index' is not defined",
     "output_type": "error",
     "traceback": [
      "\u001b[0;31m---------------------------------------------------------------------------\u001b[0m",
      "\u001b[0;31mNameError\u001b[0m                                 Traceback (most recent call last)",
      "Cell \u001b[0;32mIn[28], line 29\u001b[0m\n\u001b[1;32m     21\u001b[0m label_id_offset \u001b[38;5;241m=\u001b[39m \u001b[38;5;241m1\u001b[39m\n\u001b[1;32m     22\u001b[0m image_np_with_detections \u001b[38;5;241m=\u001b[39m image_np\u001b[38;5;241m.\u001b[39mcopy()\n\u001b[1;32m     24\u001b[0m viz_utils\u001b[38;5;241m.\u001b[39mvisualize_boxes_and_labels_on_image_array(\n\u001b[1;32m     25\u001b[0m             image_np_with_detections,\n\u001b[1;32m     26\u001b[0m             detections[\u001b[38;5;124m'\u001b[39m\u001b[38;5;124mdetection_boxes\u001b[39m\u001b[38;5;124m'\u001b[39m],\n\u001b[1;32m     27\u001b[0m             detections[\u001b[38;5;124m'\u001b[39m\u001b[38;5;124mdetection_classes\u001b[39m\u001b[38;5;124m'\u001b[39m]\u001b[38;5;241m+\u001b[39mlabel_id_offset,\n\u001b[1;32m     28\u001b[0m             detections[\u001b[38;5;124m'\u001b[39m\u001b[38;5;124mdetection_scores\u001b[39m\u001b[38;5;124m'\u001b[39m],\n\u001b[0;32m---> 29\u001b[0m             \u001b[43mcategory_index\u001b[49m,\n\u001b[1;32m     30\u001b[0m             use_normalized_coordinates\u001b[38;5;241m=\u001b[39m\u001b[38;5;28;01mTrue\u001b[39;00m,\n\u001b[1;32m     31\u001b[0m             max_boxes_to_draw\u001b[38;5;241m=\u001b[39m\u001b[38;5;241m5\u001b[39m,\n\u001b[1;32m     32\u001b[0m             min_score_thresh\u001b[38;5;241m=\u001b[39m\u001b[38;5;241m.8\u001b[39m,\n\u001b[1;32m     33\u001b[0m             agnostic_mode\u001b[38;5;241m=\u001b[39m\u001b[38;5;28;01mFalse\u001b[39;00m)\n\u001b[1;32m     35\u001b[0m cv2\u001b[38;5;241m.\u001b[39mimshow(\u001b[38;5;124m'\u001b[39m\u001b[38;5;124mobject detection\u001b[39m\u001b[38;5;124m'\u001b[39m,  cv2\u001b[38;5;241m.\u001b[39mresize(image_np_with_detections, (\u001b[38;5;241m800\u001b[39m, \u001b[38;5;241m600\u001b[39m)))\n\u001b[1;32m     37\u001b[0m \u001b[38;5;28;01mif\u001b[39;00m cv2\u001b[38;5;241m.\u001b[39mwaitKey(\u001b[38;5;241m10\u001b[39m) \u001b[38;5;241m&\u001b[39m \u001b[38;5;241m0xFF\u001b[39m \u001b[38;5;241m==\u001b[39m \u001b[38;5;28mord\u001b[39m(\u001b[38;5;124m'\u001b[39m\u001b[38;5;124mq\u001b[39m\u001b[38;5;124m'\u001b[39m):\n\u001b[1;32m     38\u001b[0m     \u001b[38;5;66;03m# cap.release()\u001b[39;00m\n\u001b[1;32m     39\u001b[0m     \u001b[38;5;66;03m# cv2.destroyAllWindows()\u001b[39;00m\n\u001b[1;32m     40\u001b[0m     \u001b[38;5;66;03m# break\u001b[39;00m\n",
      "\u001b[0;31mNameError\u001b[0m: name 'category_index' is not defined"
     ]
    }
   ],
   "source": [
    "cap = cv2.VideoCapture(1)\n",
    "width = int(cap.get(cv2.CAP_PROP_FRAME_WIDTH))\n",
    "height = int(cap.get(cv2.CAP_PROP_FRAME_HEIGHT))\n",
    "\n",
    "while cap.isOpened(): \n",
    "    ret, frame = cap.read()\n",
    "    frame = cv2.flip(frame, 1) # Flip horizontally\n",
    "    image_np = np.array(frame)\n",
    "    \n",
    "    input_tensor = tf.convert_to_tensor(np.expand_dims(image_np, 0), dtype=tf.float32)\n",
    "    detections = detect_fn(input_tensor)\n",
    "    \n",
    "    num_detections = int(detections.pop('num_detections'))\n",
    "    detections = {key: value[0, :num_detections].numpy()\n",
    "                  for key, value in detections.items()}\n",
    "    detections['num_detections'] = num_detections\n",
    "\n",
    "    # detection_classes should be ints.\n",
    "    detections['detection_classes'] = detections['detection_classes'].astype(np.int64)\n",
    "\n",
    "    label_id_offset = 1\n",
    "    image_np_with_detections = image_np.copy()\n",
    "\n",
    "    viz_utils.visualize_boxes_and_labels_on_image_array(\n",
    "                image_np_with_detections,\n",
    "                detections['detection_boxes'],\n",
    "                detections['detection_classes']+label_id_offset,\n",
    "                detections['detection_scores'],\n",
    "                category_index,\n",
    "                use_normalized_coordinates=True,\n",
    "                max_boxes_to_draw=5,\n",
    "                min_score_thresh=.8,\n",
    "                agnostic_mode=False)\n",
    "\n",
    "    cv2.imshow('object detection',  cv2.resize(image_np_with_detections, (800, 600)))\n",
    "    \n",
    "    if cv2.waitKey(10) & 0xFF == ord('q'):\n",
    "        # cap.release()\n",
    "        # cv2.destroyAllWindows()\n",
    "        # break\n",
    "        break\n",
    "cap.release()\n",
    "cv2.destroyAllWindows()\n",
    "\n",
    "for i in range(2):\n",
    "    cv2.waitKey(10)"
   ]
  },
  {
   "cell_type": "markdown",
   "id": "d7f12161-1441-42c9-849c-305f6396317b",
   "metadata": {},
   "source": [
    "# 10. Freezing the Graph"
   ]
  },
  {
   "cell_type": "code",
   "execution_count": null,
   "id": "bef150fb-3aab-49c2-9c1d-8606383684d8",
   "metadata": {},
   "outputs": [],
   "source": [
    "FREEZE_SCRIPT = os.path.join(paths['APIMODEL_PATH'], 'research', 'object_detection', 'exporter_main_v2.py ')"
   ]
  },
  {
   "cell_type": "code",
   "execution_count": null,
   "id": "bc40f1dc-59c7-435b-92b8-6ba595789ac3",
   "metadata": {},
   "outputs": [],
   "source": [
    "command = \"python {} --input_type=image_tensor --pipeline_config_path={} --trained_checkpoint_dir={} --output_directory={}\".format(FREEZE_SCRIPT ,files['PIPELINE_CONFIG'], paths['CHECKPOINT_PATH'], paths['OUTPUT_PATH'])"
   ]
  },
  {
   "cell_type": "code",
   "execution_count": null,
   "id": "6ca04e52-9607-41f8-8009-1ae87bc186ff",
   "metadata": {},
   "outputs": [],
   "source": [
    "print(command)"
   ]
  },
  {
   "cell_type": "code",
   "execution_count": null,
   "id": "24425afb-270d-4a1c-b838-c13580063c5a",
   "metadata": {},
   "outputs": [],
   "source": [
    "!{command}"
   ]
  },
  {
   "cell_type": "markdown",
   "id": "86b58120-6715-47cc-8036-3f09170f7b8f",
   "metadata": {},
   "source": [
    "# 11. Conversion to TFJS"
   ]
  },
  {
   "cell_type": "code",
   "execution_count": null,
   "id": "1399ede1-b470-48bb-83e5-299f6ae81d3a",
   "metadata": {},
   "outputs": [],
   "source": [
    "!pip install tensorflowjs"
   ]
  },
  {
   "cell_type": "code",
   "execution_count": null,
   "id": "9cf103a9-7753-4812-b4c1-2ec8ef1652ea",
   "metadata": {},
   "outputs": [],
   "source": [
    "command = \"tensorflowjs_converter --input_format=tf_saved_model --output_node_names='detection_boxes,detection_classes,detection_features,detection_multiclass_scores,detection_scores,num_detections,raw_detection_boxes,raw_detection_scores' --output_format=tfjs_graph_model --signature_name=serving_default {} {}\".format(os.path.join(paths['OUTPUT_PATH'], 'saved_model'), paths['TFJS_PATH'])"
   ]
  },
  {
   "cell_type": "code",
   "execution_count": null,
   "id": "3b3b07da-5128-4e9e-aa6a-1549d493a79f",
   "metadata": {},
   "outputs": [],
   "source": [
    "print(command)"
   ]
  },
  {
   "cell_type": "code",
   "execution_count": null,
   "id": "9ec92502-08ba-40c9-b32f-6c3c58cdb69b",
   "metadata": {},
   "outputs": [],
   "source": [
    "!{command}"
   ]
  },
  {
   "cell_type": "code",
   "execution_count": null,
   "id": "ccc487b0-c774-404f-89ec-c2441bc029c9",
   "metadata": {},
   "outputs": [],
   "source": [
    "# Test Code: https://github.com/nicknochnack/RealTimeSignLanguageDetectionwithTFJS"
   ]
  },
  {
   "cell_type": "markdown",
   "id": "f8912666-f554-45bb-99c4-87ca1dc7c81c",
   "metadata": {},
   "source": [
    "# 12. Conversion to TFLite"
   ]
  },
  {
   "cell_type": "code",
   "execution_count": null,
   "id": "61b11e2d-fa09-493e-945e-1b55a29fde1d",
   "metadata": {},
   "outputs": [],
   "source": [
    "TFLITE_SCRIPT = os.path.join(paths['APIMODEL_PATH'], 'research', 'object_detection', 'export_tflite_graph_tf2.py ')"
   ]
  },
  {
   "cell_type": "code",
   "execution_count": null,
   "id": "e6901c12-f581-4f6d-ac05-b56d24759632",
   "metadata": {},
   "outputs": [],
   "source": [
    "command = \"python {} --pipeline_config_path={} --trained_checkpoint_dir={} --output_directory={}\".format(TFLITE_SCRIPT ,files['PIPELINE_CONFIG'], paths['CHECKPOINT_PATH'], paths['TFLITE_PATH'])"
   ]
  },
  {
   "cell_type": "code",
   "execution_count": null,
   "id": "fb34002b-916c-497b-a9ca-12530bbc2db0",
   "metadata": {},
   "outputs": [],
   "source": [
    "print(command)"
   ]
  },
  {
   "cell_type": "code",
   "execution_count": null,
   "id": "1e7da3e7-d763-41aa-9a44-bceefed0379e",
   "metadata": {},
   "outputs": [],
   "source": [
    "!{command}"
   ]
  },
  {
   "cell_type": "code",
   "execution_count": null,
   "id": "9f7e87c5-bd00-41fb-898a-e766a11d59f9",
   "metadata": {},
   "outputs": [],
   "source": [
    "FROZEN_TFLITE_PATH = os.path.join(paths['TFLITE_PATH'], 'saved_model')\n",
    "TFLITE_MODEL = os.path.join(paths['TFLITE_PATH'], 'saved_model', 'detect.tflite')"
   ]
  },
  {
   "cell_type": "code",
   "execution_count": null,
   "id": "91a1f486-878d-4e7d-8285-f7fac5448cb0",
   "metadata": {},
   "outputs": [],
   "source": [
    "command = \"tflite_convert \\\n",
    "--saved_model_dir={} \\\n",
    "--output_file={} \\\n",
    "--input_shapes=1,300,300,3 \\\n",
    "--input_arrays=normalized_input_image_tensor \\\n",
    "--output_arrays='TFLite_Detection_PostProcess','TFLite_Detection_PostProcess:1','TFLite_Detection_PostProcess:2','TFLite_Detection_PostProcess:3' \\\n",
    "--inference_type=FLOAT \\\n",
    "--allow_custom_ops\".format(FROZEN_TFLITE_PATH, TFLITE_MODEL, )"
   ]
  },
  {
   "cell_type": "code",
   "execution_count": null,
   "id": "cdd9071a-56aa-41be-b7f8-f7445e5fe197",
   "metadata": {},
   "outputs": [],
   "source": [
    "print(command)"
   ]
  },
  {
   "cell_type": "code",
   "execution_count": null,
   "id": "b7d4d2c5-f49c-4351-9db1-2e6501383ff9",
   "metadata": {},
   "outputs": [],
   "source": [
    "!{command}"
   ]
  },
  {
   "cell_type": "markdown",
   "id": "ce530e41-28e2-4861-bfa7-8d3a5fcc9ccd",
   "metadata": {},
   "source": [
    "# 13. Zip and Export Models"
   ]
  },
  {
   "cell_type": "code",
   "execution_count": null,
   "id": "ac31b875-ba54-4841-aa8b-38e207c9a986",
   "metadata": {},
   "outputs": [],
   "source": [
    "!tar -czf models.tar.gz {paths['CHECKPOINT_PATH']}"
   ]
  },
  {
   "cell_type": "code",
   "execution_count": null,
   "id": "443f1d16-d2df-460d-801d-8d48f16e4682",
   "metadata": {},
   "outputs": [],
   "source": [
    "from google.colab import drive\n",
    "drive.mount('/content/drive')"
   ]
  }
 ],
 "metadata": {
  "kernelspec": {
   "display_name": "tfod",
   "language": "python",
   "name": "tfod"
  },
  "language_info": {
   "codemirror_mode": {
    "name": "ipython",
    "version": 3
   },
   "file_extension": ".py",
   "mimetype": "text/x-python",
   "name": "python",
   "nbconvert_exporter": "python",
   "pygments_lexer": "ipython3",
   "version": "3.9.1"
  }
 },
 "nbformat": 4,
 "nbformat_minor": 5
}
