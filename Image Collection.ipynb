{
 "cells": [
  {
   "cell_type": "markdown",
   "id": "194e3c38-5101-43e8-9bfc-5b51d458c13c",
   "metadata": {},
   "source": [
    "# 1. Import Dependencies"
   ]
  },
  {
   "cell_type": "code",
   "execution_count": 1,
   "id": "a44bfc8f-3108-4769-925f-f0afac5b5f80",
   "metadata": {},
   "outputs": [
    {
     "name": "stdout",
     "output_type": "stream",
     "text": [
      "Collecting opencv-python\n",
      "  Using cached opencv_python-4.9.0.80-cp37-abi3-macosx_11_0_arm64.whl.metadata (20 kB)\n",
      "Collecting numpy>=1.21.0 (from opencv-python)\n",
      "  Using cached numpy-1.26.4-cp39-cp39-macosx_11_0_arm64.whl.metadata (61 kB)\n",
      "Using cached opencv_python-4.9.0.80-cp37-abi3-macosx_11_0_arm64.whl (35.4 MB)\n",
      "Using cached numpy-1.26.4-cp39-cp39-macosx_11_0_arm64.whl (14.0 MB)\n",
      "Installing collected packages: numpy, opencv-python\n",
      "Successfully installed numpy-1.26.4 opencv-python-4.9.0.80\n"
     ]
    }
   ],
   "source": [
    "!pip install opencv-python"
   ]
  },
  {
   "cell_type": "code",
   "execution_count": 2,
   "id": "bb44d5e5-d990-4cbe-94cf-53e524190c16",
   "metadata": {},
   "outputs": [],
   "source": [
    "# Import opencv\n",
    "import cv2\n",
    "\n",
    "# Import uuid\n",
    "import uuid\n",
    "\n",
    "# Import Operating System\n",
    "import os\n",
    "\n",
    "# Import time\n",
    "import time"
   ]
  },
  {
   "cell_type": "markdown",
   "id": "160fb42b-2289-4b56-bd20-feacc08ffc80",
   "metadata": {},
   "source": [
    "# 2. Define Images to Collect"
   ]
  },
  {
   "cell_type": "code",
   "execution_count": 3,
   "id": "ba4641b9-855c-41d6-b85b-d0c6ccf2c245",
   "metadata": {},
   "outputs": [],
   "source": [
    "labels = ['stopsign']\n",
    "number_imgs = 5"
   ]
  },
  {
   "cell_type": "markdown",
   "id": "b61a03fb-dea4-48c4-b3e0-d6b4cedd958b",
   "metadata": {},
   "source": [
    "# 3. Setup Folders"
   ]
  },
  {
   "cell_type": "code",
   "execution_count": 4,
   "id": "f753fcde-0846-4843-b6ae-ed795d18952f",
   "metadata": {},
   "outputs": [],
   "source": [
    "IMAGES_PATH = os.path.join('Tensorflow', 'workspace', 'images', 'collectedimages')"
   ]
  },
  {
   "cell_type": "code",
   "execution_count": 5,
   "id": "fca754d1-a9fc-4c63-917d-08145ef432fc",
   "metadata": {},
   "outputs": [],
   "source": [
    "if not os.path.exists(IMAGES_PATH):\n",
    "    if os.name == 'posix':\n",
    "        !mkdir -p {IMAGES_PATH}\n",
    "    if os.name == 'nt':\n",
    "         !mkdir {IMAGES_PATH}\n",
    "for label in labels:\n",
    "    path = os.path.join(IMAGES_PATH, label)\n",
    "    if not os.path.exists(path):\n",
    "        !mkdir {path}"
   ]
  },
  {
   "cell_type": "markdown",
   "id": "998df3cb-6c47-44e0-bedf-671726ca3a0f",
   "metadata": {},
   "source": [
    "# 4. Capture Images"
   ]
  },
  {
   "cell_type": "code",
   "execution_count": null,
   "id": "63c4172e-09e3-4544-a81e-95a028cda3f5",
   "metadata": {},
   "outputs": [],
   "source": [
    "for label in labels:\n",
    "    cap = cv2.VideoCapture(1)\n",
    "    print('Collecting images for {}'.format(label))\n",
    "    time.sleep(5)\n",
    "    for imgnum in range(number_imgs):\n",
    "        print('Collecting image {}'.format(imgnum))\n",
    "        ret, frame = cap.read()\n",
    "\n",
    "        frame = cv2.flip(frame, 1)\n",
    "        \n",
    "        imgname = os.path.join(IMAGES_PATH,label,label+'.'+'{}.jpg'.format(str(uuid.uuid1())))\n",
    "        cv2.imwrite(imgname, frame)\n",
    "        cv2.imshow('frame', frame)\n",
    "        time.sleep(2)\n",
    "\n",
    "        if cv2.waitKey(1) & 0xFF == ord('q'):\n",
    "            break\n",
    "cap.release()\n",
    "cv2.destroyAllWindows()\n",
    "\n",
    "for i in range(2):\n",
    "    cv2.waitKey(1)"
   ]
  },
  {
   "cell_type": "markdown",
   "id": "a721036d-0aab-4b9b-99e3-0cf8763b6c01",
   "metadata": {},
   "source": [
    "# 5. Image Labelling"
   ]
  },
  {
   "cell_type": "code",
   "execution_count": 6,
   "id": "e7f1feb8-7b1c-4da0-82a1-c42c2b43584b",
   "metadata": {},
   "outputs": [
    {
     "name": "stdout",
     "output_type": "stream",
     "text": [
      "Collecting pyqt5\n",
      "  Using cached PyQt5-5.15.10-cp37-abi3-macosx_11_0_arm64.whl.metadata (2.1 kB)\n",
      "Collecting lxml\n",
      "  Using cached lxml-5.1.0-cp39-cp39-macosx_11_0_arm64.whl.metadata (3.5 kB)\n",
      "Collecting PyQt5-sip<13,>=12.13 (from pyqt5)\n",
      "  Using cached PyQt5_sip-12.13.0-cp39-cp39-macosx_10_9_universal2.whl.metadata (504 bytes)\n",
      "Collecting PyQt5-Qt5>=5.15.2 (from pyqt5)\n",
      "  Using cached PyQt5_Qt5-5.15.12-py3-none-macosx_11_0_arm64.whl.metadata (536 bytes)\n",
      "Using cached PyQt5-5.15.10-cp37-abi3-macosx_11_0_arm64.whl (6.6 MB)\n",
      "Using cached lxml-5.1.0-cp39-cp39-macosx_11_0_arm64.whl (4.5 MB)\n",
      "Using cached PyQt5_Qt5-5.15.12-py3-none-macosx_11_0_arm64.whl (36.7 MB)\n",
      "Using cached PyQt5_sip-12.13.0-cp39-cp39-macosx_10_9_universal2.whl (144 kB)\n",
      "Installing collected packages: PyQt5-Qt5, PyQt5-sip, lxml, pyqt5\n",
      "Successfully installed PyQt5-Qt5-5.15.12 PyQt5-sip-12.13.0 lxml-5.1.0 pyqt5-5.15.10\n"
     ]
    }
   ],
   "source": [
    "!pip install --upgrade pyqt5 lxml"
   ]
  },
  {
   "cell_type": "code",
   "execution_count": 7,
   "id": "6a931434-3fb5-4978-b3b7-afa36c80cf3b",
   "metadata": {},
   "outputs": [],
   "source": [
    "LABELIMG_PATH = os.path.join('Tensorflow', 'labelimg')"
   ]
  },
  {
   "cell_type": "code",
   "execution_count": 8,
   "id": "8d76db26-f274-42fe-8914-8ef96d918200",
   "metadata": {},
   "outputs": [],
   "source": [
    "if not os.path.exists(LABELIMG_PATH):\n",
    "    !mkdir {LABELIMG_PATH}\n",
    "    !git clone https://github.com/tzutalin/labelImg {LABELIMG_PATH}"
   ]
  },
  {
   "cell_type": "code",
   "execution_count": 9,
   "id": "1fb64377-2f11-43a3-b0ea-a58c1b043847",
   "metadata": {},
   "outputs": [
    {
     "name": "stdout",
     "output_type": "stream",
     "text": [
      "pyrcc5 -o libs/resources.py resources.qrc\n"
     ]
    }
   ],
   "source": [
    "if os.name == 'posix':\n",
    "    !cd {LABELIMG_PATH} && make qt5py3\n",
    "if os.name =='nt':\n",
    "    !cd {LABELIMG_PATH} && pyrcc5 -o libs/resources.py resources.qrc"
   ]
  },
  {
   "cell_type": "code",
   "execution_count": 13,
   "id": "bf980f0d-e191-4305-8707-6075e4d18da8",
   "metadata": {},
   "outputs": [
    {
     "name": "stdout",
     "output_type": "stream",
     "text": [
      "Image:/Users/alexis/Desktop/Stop Sign Dataset/road77.jpg -> Annotation:/Users/alexis/Desktop/Stop Sign Dataset/road77.xml\n",
      "Image:/Users/alexis/Desktop/Stop Sign Dataset/road78.jpg -> Annotation:/Users/alexis/Desktop/Stop Sign Dataset/road78.xml\n",
      "Image:/Users/alexis/Desktop/Stop Sign Dataset/road79.jpg -> Annotation:/Users/alexis/Desktop/Stop Sign Dataset/road79.xml\n",
      "Image:/Users/alexis/Desktop/Stop Sign Dataset/road80.jpg -> Annotation:/Users/alexis/Desktop/Stop Sign Dataset/road80.xml\n",
      "Image:/Users/alexis/Desktop/Stop Sign Dataset/road81.jpg -> Annotation:/Users/alexis/Desktop/Stop Sign Dataset/road81.xml\n",
      "Image:/Users/alexis/Desktop/Stop Sign Dataset/road82.jpg -> Annotation:/Users/alexis/Desktop/Stop Sign Dataset/road82.xml\n",
      "Image:/Users/alexis/Desktop/Stop Sign Dataset/road83.jpg -> Annotation:/Users/alexis/Desktop/Stop Sign Dataset/road83.xml\n",
      "Image:/Users/alexis/Desktop/Stop Sign Dataset/road84.jpg -> Annotation:/Users/alexis/Desktop/Stop Sign Dataset/road84.xml\n",
      "Image:/Users/alexis/Desktop/Stop Sign Dataset/road85.jpg -> Annotation:/Users/alexis/Desktop/Stop Sign Dataset/road85.xml\n",
      "Image:/Users/alexis/Desktop/Stop Sign Dataset/road86.jpg -> Annotation:/Users/alexis/Desktop/Stop Sign Dataset/road86.xml\n",
      "Image:/Users/alexis/Desktop/Stop Sign Dataset/road87.jpg -> Annotation:/Users/alexis/Desktop/Stop Sign Dataset/road87.xml\n",
      "Image:/Users/alexis/Desktop/Stop Sign Dataset/road88.jpg -> Annotation:/Users/alexis/Desktop/Stop Sign Dataset/road88.xml\n",
      "Image:/Users/alexis/Desktop/Stop Sign Dataset/road89.jpg -> Annotation:/Users/alexis/Desktop/Stop Sign Dataset/road89.xml\n",
      "Image:/Users/alexis/Desktop/Stop Sign Dataset/road90.jpg -> Annotation:/Users/alexis/Desktop/Stop Sign Dataset/road90.xml\n",
      "Image:/Users/alexis/Desktop/Stop Sign Dataset/road91.jpg -> Annotation:/Users/alexis/Desktop/Stop Sign Dataset/road91.xml\n",
      "Image:/Users/alexis/Desktop/Stop Sign Dataset/road92.jpg -> Annotation:/Users/alexis/Desktop/Stop Sign Dataset/road92.xml\n",
      "Image:/Users/alexis/Desktop/Stop Sign Dataset/road93.jpg -> Annotation:/Users/alexis/Desktop/Stop Sign Dataset/road93.xml\n",
      "Image:/Users/alexis/Desktop/Stop Sign Dataset/road94.jpg -> Annotation:/Users/alexis/Desktop/Stop Sign Dataset/road94.xml\n",
      "Image:/Users/alexis/Desktop/Stop Sign Dataset/road95.jpg -> Annotation:/Users/alexis/Desktop/Stop Sign Dataset/road95.xml\n",
      "Image:/Users/alexis/Desktop/Stop Sign Dataset/road96.jpg -> Annotation:/Users/alexis/Desktop/Stop Sign Dataset/road96.xml\n",
      "Image:/Users/alexis/Desktop/Stop Sign Dataset/road97.jpg -> Annotation:/Users/alexis/Desktop/Stop Sign Dataset/road97.xml\n",
      "Image:/Users/alexis/Desktop/Stop Sign Dataset/road98.jpg -> Annotation:/Users/alexis/Desktop/Stop Sign Dataset/road98.xml\n",
      "Image:/Users/alexis/Desktop/Stop Sign Dataset/road99.jpg -> Annotation:/Users/alexis/Desktop/Stop Sign Dataset/road99.xml\n",
      "^C\n"
     ]
    }
   ],
   "source": [
    "!cd {LABELIMG_PATH} && python labelImg.py"
   ]
  },
  {
   "cell_type": "markdown",
   "id": "c3df5aed-50b9-4a37-9415-a42f0903669a",
   "metadata": {},
   "source": [
    "# 6. Move them into a Training and Testing Partition"
   ]
  },
  {
   "cell_type": "markdown",
   "id": "73319dcd-efa8-4d17-8114-f7b5bf0986b7",
   "metadata": {},
   "source": [
    "# OPTIONAL - 7. Compress them for Colab Training"
   ]
  },
  {
   "cell_type": "code",
   "execution_count": null,
   "id": "49119859-5267-401e-8b02-eeccbcbe15f3",
   "metadata": {},
   "outputs": [],
   "source": [
    "#TRAIN_PATH = os.path.join('Tensorflow', 'workspace', 'images', 'train')\n",
    "#TEST_PATH = os.path.join('Tensorflow', 'workspace', 'images', 'test')\n",
    "#ARCHIVE_PATH = os.path.join('Tensorflow', 'workspace', 'images', 'archive.tar.gz')"
   ]
  },
  {
   "cell_type": "code",
   "execution_count": null,
   "id": "8b74b345-1436-4b3c-8ef8-9b2921a35af6",
   "metadata": {},
   "outputs": [],
   "source": [
    "#!tar -czf {ARCHIVE_PATH} {TRAIN_PATH} {TEST_PATH}"
   ]
  }
 ],
 "metadata": {
  "kernelspec": {
   "display_name": "tfod",
   "language": "python",
   "name": "tfod"
  },
  "language_info": {
   "codemirror_mode": {
    "name": "ipython",
    "version": 3
   },
   "file_extension": ".py",
   "mimetype": "text/x-python",
   "name": "python",
   "nbconvert_exporter": "python",
   "pygments_lexer": "ipython3",
   "version": "3.9.1"
  }
 },
 "nbformat": 4,
 "nbformat_minor": 5
}
